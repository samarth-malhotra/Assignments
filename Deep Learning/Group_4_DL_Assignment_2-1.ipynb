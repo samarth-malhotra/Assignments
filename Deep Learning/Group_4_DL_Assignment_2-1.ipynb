{
  "nbformat": 4,
  "nbformat_minor": 0,
  "metadata": {
    "accelerator": "GPU",
    "colab": {
      "name": "DL Assignment 2.ipynb",
      "provenance": [],
      "collapsed_sections": []
    },
    "kernelspec": {
      "display_name": "Python 3",
      "name": "python3"
    }
  },
  "cells": [
    {
      "cell_type": "markdown",
      "metadata": {
        "id": "pG2Op_Q5VViG"
      },
      "source": [
        "# Question 2: NLP Dataset - Sentiment140"
      ]
    },
    {
      "cell_type": "markdown",
      "metadata": {
        "id": "ulgPdnOAHGbC"
      },
      "source": [
        "## 1 Import Libraries/Dataset"
      ]
    },
    {
      "cell_type": "markdown",
      "metadata": {
        "id": "pKAutvXzK-gt"
      },
      "source": [
        "### a. Import required libraries"
      ]
    },
    {
      "cell_type": "code",
      "metadata": {
        "id": "EkDnTcPnBddu",
        "outputId": "c6841c6e-26e8-4023-f803-decdbe25daf8",
        "colab": {
          "base_uri": "https://localhost:8080/",
          "height": 51
        }
      },
      "source": [
        "# Import necessary libraries\n",
        "import matplotlib\n",
        "import matplotlib.pyplot as plt\n",
        "import numpy as np\n",
        "import pandas as pd\n",
        "import tensorflow as tf\n",
        "from tensorflow.keras import models, layers, regularizers\n",
        "from tensorflow import keras\n",
        "from tensorflow.keras.layers import Embedding, LSTM\n",
        "from sklearn.metrics import confusion_matrix, classification_report\n",
        "from sklearn.model_selection import train_test_split\n",
        "import tensorflow_hub as hub\n",
        "from tensorflow.keras import regularizers\n",
        "import nltk\n",
        "from nltk.corpus import stopwords\n",
        "import re\n",
        "import time\n",
        "nltk.download('stopwords')\n",
        "\n",
        "embed = hub.load(\"https://tfhub.dev/google/nnlm-en-dim128/2\")\n",
        "% matplotlib inline"
      ],
      "execution_count": null,
      "outputs": [
        {
          "output_type": "stream",
          "text": [
            "[nltk_data] Downloading package stopwords to /root/nltk_data...\n",
            "[nltk_data]   Unzipping corpora/stopwords.zip.\n"
          ],
          "name": "stdout"
        }
      ]
    },
    {
      "cell_type": "markdown",
      "metadata": {
        "id": "L3NqgoD5WA6w"
      },
      "source": [
        "### b. Import the dataset"
      ]
    },
    {
      "cell_type": "code",
      "metadata": {
        "id": "u4zVZRwdIYh4"
      },
      "source": [
        "DATASET_COLUMNS = [\"target\", \"ids\", \"date\", \"flag\", \"user\", \"text\"]\n",
        "DATASET_ENCODING = \"ISO-8859-1\"\n",
        "TRAIN_SIZE = 0.8"
      ],
      "execution_count": null,
      "outputs": []
    },
    {
      "cell_type": "code",
      "metadata": {
        "id": "WaJp5LLsCvnq"
      },
      "source": [
        "file = '/content/drive/My Drive/Colab Notebooks/training.1600000.processed.noemoticon.csv'\n",
        "df = pd.read_csv(file, encoding=DATASET_ENCODING, names=DATASET_COLUMNS)"
      ],
      "execution_count": null,
      "outputs": []
    },
    {
      "cell_type": "code",
      "metadata": {
        "id": "4YHc1Gvz1570"
      },
      "source": [
        "# Changing class 4 to 1 to use binary cross-entropy divergence function\n",
        "df['target'] = df.target.map({4:1,0:0})"
      ],
      "execution_count": null,
      "outputs": []
    },
    {
      "cell_type": "markdown",
      "metadata": {
        "id": "lAY-XMqAWcuG"
      },
      "source": [
        "### c. Check the GPU available"
      ]
    },
    {
      "cell_type": "code",
      "metadata": {
        "id": "XbaPoIdRJmaA",
        "outputId": "1b03ca20-6592-412f-bbc2-bc98d96a8ced",
        "colab": {
          "base_uri": "https://localhost:8080/",
          "height": 34
        }
      },
      "source": [
        "# Check if GPU is available\n",
        "tf.config.list_physical_devices('GPU')"
      ],
      "execution_count": null,
      "outputs": [
        {
          "output_type": "execute_result",
          "data": {
            "text/plain": [
              "[PhysicalDevice(name='/physical_device:GPU:0', device_type='GPU')]"
            ]
          },
          "metadata": {
            "tags": []
          },
          "execution_count": 6
        }
      ]
    },
    {
      "cell_type": "markdown",
      "metadata": {
        "id": "txFq2LBcWmHv"
      },
      "source": [
        "## 2 Data Visualization\n",
        "** Shape of the train and test data is printed in section 3."
      ]
    },
    {
      "cell_type": "code",
      "metadata": {
        "id": "r5BwzTs-JVz3",
        "outputId": "ffd5b61b-84ca-4cbf-8dd8-68294ef03f68",
        "colab": {
          "base_uri": "https://localhost:8080/",
          "height": 71
        }
      },
      "source": [
        "# Print 2 tweets for Sentiment class 0\n",
        "\n",
        "for i, row in df.loc[df.target == 0, :].head(2).iterrows():\n",
        "  print(row['text'])"
      ],
      "execution_count": null,
      "outputs": [
        {
          "output_type": "stream",
          "text": [
            "@switchfoot http://twitpic.com/2y1zl - Awww, that's a bummer.  You shoulda got David Carr of Third Day to do it. ;D\n",
            "is upset that he can't update his Facebook by texting it... and might cry as a result  School today also. Blah!\n"
          ],
          "name": "stdout"
        }
      ]
    },
    {
      "cell_type": "code",
      "metadata": {
        "id": "uHCAxeofKWPH",
        "outputId": "60e52429-4cd6-4bd0-bf0b-e8a561fae5b5",
        "colab": {
          "base_uri": "https://localhost:8080/",
          "height": 51
        }
      },
      "source": [
        "# Print 2 tweets for Sentiment class 4 (changed to 1)\n",
        "\n",
        "for i, row in df.loc[df.target == 1, :].head(2).iterrows():\n",
        "  print(row['text'])"
      ],
      "execution_count": null,
      "outputs": [
        {
          "output_type": "stream",
          "text": [
            "I LOVE @Health4UandPets u guys r the best!! \n",
            "im meeting up with one of my besties tonight! Cant wait!!  - GIRL TALK!!\n"
          ],
          "name": "stdout"
        }
      ]
    },
    {
      "cell_type": "code",
      "metadata": {
        "id": "xHuti2eVLzVd",
        "outputId": "9ad4d9be-21b0-42ce-f0a5-a170135287fe",
        "colab": {
          "base_uri": "https://localhost:8080/",
          "height": 279
        }
      },
      "source": [
        "# Plot class distribution in for each target value\n",
        "df.target.value_counts().plot(kind='bar')"
      ],
      "execution_count": null,
      "outputs": [
        {
          "output_type": "execute_result",
          "data": {
            "text/plain": [
              "<matplotlib.axes._subplots.AxesSubplot at 0x7f53058f9470>"
            ]
          },
          "metadata": {
            "tags": []
          },
          "execution_count": 9
        },
        {
          "output_type": "display_data",
          "data": {
            "image/png": "[encoded data removed]",
            "text/plain": [
              "<Figure size 432x288 with 1 Axes>"
            ]
          },
          "metadata": {
            "tags": [],
            "needs_background": "light"
          }
        }
      ]
    },
    {
      "cell_type": "markdown",
      "metadata": {
        "id": "qSj6SAscXM-W"
      },
      "source": [
        "## 3 Data Preprocessing"
      ]
    },
    {
      "cell_type": "code",
      "metadata": {
        "id": "DD_JDAEAOZhf"
      },
      "source": [
        "data=df.iloc[:,-1].values\n",
        "label=df.iloc[:,0].values"
      ],
      "execution_count": null,
      "outputs": []
    },
    {
      "cell_type": "markdown",
      "metadata": {
        "id": "nS3GDv5hflGn"
      },
      "source": [
        "Cleaning the text to improve the quality of data"
      ]
    },
    {
      "cell_type": "code",
      "metadata": {
        "id": "hGZwSb9wM9dk"
      },
      "source": [
        "def tweet_clean(tweet):\n",
        "    tweet=re.sub(r'@[A-Za-z0-9]+',\" \",tweet) ##Removing the usernames\n",
        "    tweet=re.sub(r'^[A-Za-z0-9.!?]+',\" \",tweet) ##Removing digits and punctuations\n",
        "    tweet=re.sub(r'https?://[A-Za-z0-9./]+',\" \",tweet) ## removing links\n",
        "    tweet=re.sub(r' +',\" \",tweet)\n",
        "    tweet = tweet.lower()\n",
        "    tweet = re.sub(r\"\\'s\", \" \", tweet)\n",
        "    tweet = re.sub(r\"\\'ve\", \" have \", tweet)\n",
        "    tweet = re.sub(r\"can't\", \"cannot \", tweet)\n",
        "    tweet = re.sub(r\"n't\", \" not \", tweet)\n",
        "    tweet = re.sub(r\"\\'d\", \" would \", tweet)\n",
        "    tweet = re.sub(r\"\\'ll\", \" will \", tweet)\n",
        "    tweet = re.sub(r\"\\'scuse\", \" excuse \", tweet)\n",
        "    tweet = tweet.strip(' ')\n",
        "    tweet = tweet.strip('. .')\n",
        "    tweet = tweet.replace('.',' ')\n",
        "    tweet = tweet.replace('-',' ')\n",
        "    tweet = tweet.replace(\"’\", \"'\").replace(\"′\", \"'\").replace(\"%\", \" percent \").replace(\"₹\", \" rupee \").replace(\"$\", \" dollar \")\n",
        "    tweet = tweet.replace(\"won't\", \"will not\").replace(\"cannot\", \"can not\").replace(\"can't\", \"can not\")\n",
        "    tweet = tweet.replace(\"€\", \" euro \").replace(\"'ll\", \" will\")\n",
        "    tweet = tweet.replace(\"don't\", \"do not\").replace(\"didn't\", \"did not\").replace(\"im\",\"i am\").replace(\"it's\", \"it is\")\n",
        "    tweet = tweet.replace(\",000,000\", \"m\").replace(\"n't\", \" not\").replace(\"what's\", \"what is\")\n",
        "    tweet = tweet.replace(\",000\", \"k\").replace(\"'ve\", \" have\").replace(\"i'm\", \"i am\").replace(\"'re\", \" are\")\n",
        "    tweet = tweet.replace(\"he's\", \"he is\").replace(\"she's\", \"she is\").replace(\"'s\", \" own\")\n",
        "    tweet = re.sub('\\s+', ' ', tweet)\n",
        "    tweet=tweet.split()\n",
        "\n",
        "    tweet=' '.join(word for word in tweet)\n",
        "\n",
        "    return tweet.lower()\n",
        "\n",
        "text_clean=[tweet_clean(text) for text in data]\n",
        "df['text']=text_clean"
      ],
      "execution_count": null,
      "outputs": []
    },
    {
      "cell_type": "code",
      "metadata": {
        "id": "nI8307cjL3ks",
        "outputId": "53115543-85be-4e3d-ef3b-e4c0037d80d9",
        "colab": {
          "base_uri": "https://localhost:8080/",
          "height": 51
        }
      },
      "source": [
        "# Split training and test dataset\n",
        "x_col = ['text']\n",
        "y_col = ['target']\n",
        "\n",
        "X_train, X_test, y_train, y_test = train_test_split(df[x_col], df[y_col], train_size=TRAIN_SIZE, random_state=40)\n",
        "\n",
        "print(f\"Training data shape is {X_train.shape}\")\n",
        "print(f\"Testing data shape is {X_test.shape}\")"
      ],
      "execution_count": null,
      "outputs": [
        {
          "output_type": "stream",
          "text": [
            "Training data shape is (1280000, 1)\n",
            "Testing data shape is (320000, 1)\n"
          ],
          "name": "stdout"
        }
      ]
    },
    {
      "cell_type": "code",
      "metadata": {
        "id": "5wAhkFlkPCmx"
      },
      "source": [
        "# Use pretrained word-embeddings to convert the text into word vectors\n",
        "test_embeddings = embed(X_test['text'].values.tolist())\n",
        "train_embeddings = embed(X_train['text'].values.tolist())"
      ],
      "execution_count": null,
      "outputs": []
    },
    {
      "cell_type": "markdown",
      "metadata": {
        "id": "dFMg9z3xYbqx"
      },
      "source": [
        "## 4 Model Building"
      ]
    },
    {
      "cell_type": "markdown",
      "metadata": {
        "id": "gOuaL9aYf6h5"
      },
      "source": [
        "* We have  used 3 dense layers with optimum number of hidden nodes after experimenting with various combinations and choosing the one with maximum accuracy.\n",
        "* L2 regularization is added to all the layers.\n",
        "* Added droput layer after layer 2 based on trials at different positions and picking the one with maximum accuracy."
      ]
    },
    {
      "cell_type": "code",
      "metadata": {
        "id": "-TjQBI6GYtBP",
        "outputId": "180bcf69-b4f1-4af3-9fb0-3a8eab5ab731",
        "colab": {
          "base_uri": "https://localhost:8080/",
          "height": 323
        }
      },
      "source": [
        "start_time = time.time()\n",
        "\n",
        "model = keras.models.Sequential()\n",
        "\n",
        "model.add(keras.layers.Dense(64, activation='relu', kernel_regularizer=regularizers.l2(0.001), activity_regularizer=regularizers.l2(0.001),input_shape=train_embeddings.shape[1:]))\n",
        "model.add(keras.layers.Dense(128, activation='relu', kernel_regularizer=regularizers.l2(0.001), activity_regularizer=regularizers.l2(0.001)))\n",
        "model.add(layers.Dropout(0.2))\n",
        "model.add(keras.layers.Dense(16, activation='relu',kernel_regularizer=regularizers.l2(0.001), activity_regularizer=regularizers.l2(0.001)))\n",
        "model.add(keras.layers.Dense(1, activation = 'sigmoid'))\n",
        "\n",
        "model.summary()"
      ],
      "execution_count": null,
      "outputs": [
        {
          "output_type": "stream",
          "text": [
            "Model: \"sequential\"\n",
            "_________________________________________________________________\n",
            "Layer (type)                 Output Shape              Param #   \n",
            "=================================================================\n",
            "dense (Dense)                (None, 64)                8256      \n",
            "_________________________________________________________________\n",
            "dense_1 (Dense)              (None, 128)               8320      \n",
            "_________________________________________________________________\n",
            "dropout (Dropout)            (None, 128)               0         \n",
            "_________________________________________________________________\n",
            "dense_2 (Dense)              (None, 16)                2064      \n",
            "_________________________________________________________________\n",
            "dense_3 (Dense)              (None, 1)                 17        \n",
            "=================================================================\n",
            "Total params: 18,657\n",
            "Trainable params: 18,657\n",
            "Non-trainable params: 0\n",
            "_________________________________________________________________\n"
          ],
          "name": "stdout"
        }
      ]
    },
    {
      "cell_type": "markdown",
      "metadata": {
        "id": "0rqDCqYFYlU-"
      },
      "source": [
        "## 5 Model Compilation\n",
        "* We are using the Adam optimizer because it combines the benefit of AdaGrad and RMSProp. Adam is also an adaptive gradient descent algorithm, such that it maintains a learning rate per-parameter. \n",
        "* We are using the learning rate value as 0.01. The higher learning rates have tendency to overshoot and miss the minima whereas too small learning rate takes too many steps to reach the minima."
      ]
    },
    {
      "cell_type": "code",
      "metadata": {
        "id": "WNPkHpBdX9Cu"
      },
      "source": [
        "opt = keras.optimizers.Adam(learning_rate=0.01)\n",
        "\n",
        "model.compile(loss='binary_crossentropy', optimizer=opt, metrics=['accuracy'])"
      ],
      "execution_count": null,
      "outputs": []
    },
    {
      "cell_type": "markdown",
      "metadata": {
        "id": "hw35i0H2YmKm"
      },
      "source": [
        "## 6 Model Training"
      ]
    },
    {
      "cell_type": "code",
      "metadata": {
        "id": "vSQ76rckXzfn",
        "outputId": "6c718c50-e462-4f3b-a701-d3d025e243c9",
        "colab": {
          "base_uri": "https://localhost:8080/",
          "height": 904
        }
      },
      "source": [
        "start_time = time.time()\n",
        "history = model.fit(train_embeddings, y_train, epochs = 25, batch_size=10000, validation_split=0.1)\n",
        "print(f\" Total training time is {time.time() - start_time} seconds\")"
      ],
      "execution_count": null,
      "outputs": [
        {
          "output_type": "stream",
          "text": [
            "Epoch 1/25\n",
            "116/116 [==============================] - 1s 9ms/step - loss: 0.5986 - accuracy: 0.7106 - val_loss: 0.5983 - val_accuracy: 0.6953\n",
            "Epoch 2/25\n",
            "116/116 [==============================] - 1s 8ms/step - loss: 0.5631 - accuracy: 0.7268 - val_loss: 0.5556 - val_accuracy: 0.7322\n",
            "Epoch 3/25\n",
            "116/116 [==============================] - 1s 8ms/step - loss: 0.5564 - accuracy: 0.7311 - val_loss: 0.5550 - val_accuracy: 0.7311\n",
            "Epoch 4/25\n",
            "116/116 [==============================] - 1s 8ms/step - loss: 0.5543 - accuracy: 0.7320 - val_loss: 0.5507 - val_accuracy: 0.7337\n",
            "Epoch 5/25\n",
            "116/116 [==============================] - 1s 8ms/step - loss: 0.5524 - accuracy: 0.7332 - val_loss: 0.5496 - val_accuracy: 0.7348\n",
            "Epoch 6/25\n",
            "116/116 [==============================] - 1s 8ms/step - loss: 0.5496 - accuracy: 0.7349 - val_loss: 0.5489 - val_accuracy: 0.7354\n",
            "Epoch 7/25\n",
            "116/116 [==============================] - 1s 8ms/step - loss: 0.5489 - accuracy: 0.7346 - val_loss: 0.5460 - val_accuracy: 0.7365\n",
            "Epoch 8/25\n",
            "116/116 [==============================] - 1s 8ms/step - loss: 0.5481 - accuracy: 0.7356 - val_loss: 0.5449 - val_accuracy: 0.7376\n",
            "Epoch 9/25\n",
            "116/116 [==============================] - 1s 8ms/step - loss: 0.5470 - accuracy: 0.7359 - val_loss: 0.5457 - val_accuracy: 0.7369\n",
            "Epoch 10/25\n",
            "116/116 [==============================] - 1s 8ms/step - loss: 0.5468 - accuracy: 0.7358 - val_loss: 0.5455 - val_accuracy: 0.7362\n",
            "Epoch 11/25\n",
            "116/116 [==============================] - 1s 9ms/step - loss: 0.5465 - accuracy: 0.7357 - val_loss: 0.5486 - val_accuracy: 0.7320\n",
            "Epoch 12/25\n",
            "116/116 [==============================] - 1s 9ms/step - loss: 0.5465 - accuracy: 0.7356 - val_loss: 0.5440 - val_accuracy: 0.7380\n",
            "Epoch 13/25\n",
            "116/116 [==============================] - 1s 8ms/step - loss: 0.5454 - accuracy: 0.7364 - val_loss: 0.5473 - val_accuracy: 0.7339\n",
            "Epoch 14/25\n",
            "116/116 [==============================] - 1s 8ms/step - loss: 0.5450 - accuracy: 0.7366 - val_loss: 0.5501 - val_accuracy: 0.7334\n",
            "Epoch 15/25\n",
            "116/116 [==============================] - 1s 8ms/step - loss: 0.5445 - accuracy: 0.7368 - val_loss: 0.5584 - val_accuracy: 0.7280\n",
            "Epoch 16/25\n",
            "116/116 [==============================] - 1s 8ms/step - loss: 0.5452 - accuracy: 0.7363 - val_loss: 0.5422 - val_accuracy: 0.7377\n",
            "Epoch 17/25\n",
            "116/116 [==============================] - 1s 7ms/step - loss: 0.5434 - accuracy: 0.7379 - val_loss: 0.5420 - val_accuracy: 0.7392\n",
            "Epoch 18/25\n",
            "116/116 [==============================] - 1s 7ms/step - loss: 0.5437 - accuracy: 0.7370 - val_loss: 0.5495 - val_accuracy: 0.7323\n",
            "Epoch 19/25\n",
            "116/116 [==============================] - 1s 7ms/step - loss: 0.5432 - accuracy: 0.7374 - val_loss: 0.5478 - val_accuracy: 0.7335\n",
            "Epoch 20/25\n",
            "116/116 [==============================] - 1s 7ms/step - loss: 0.5445 - accuracy: 0.7367 - val_loss: 0.5501 - val_accuracy: 0.7322\n",
            "Epoch 21/25\n",
            "116/116 [==============================] - 1s 8ms/step - loss: 0.5439 - accuracy: 0.7367 - val_loss: 0.5441 - val_accuracy: 0.7368\n",
            "Epoch 22/25\n",
            "116/116 [==============================] - 1s 7ms/step - loss: 0.5442 - accuracy: 0.7367 - val_loss: 0.5597 - val_accuracy: 0.7241\n",
            "Epoch 23/25\n",
            "116/116 [==============================] - 1s 8ms/step - loss: 0.5440 - accuracy: 0.7366 - val_loss: 0.5406 - val_accuracy: 0.7391\n",
            "Epoch 24/25\n",
            "116/116 [==============================] - 1s 8ms/step - loss: 0.5427 - accuracy: 0.7373 - val_loss: 0.5446 - val_accuracy: 0.7348\n",
            "Epoch 25/25\n",
            "116/116 [==============================] - 1s 7ms/step - loss: 0.5422 - accuracy: 0.7376 - val_loss: 0.5467 - val_accuracy: 0.7340\n",
            " Total training time is 25.922939777374268 seconds\n"
          ],
          "name": "stdout"
        }
      ]
    },
    {
      "cell_type": "markdown",
      "metadata": {
        "id": "ReJ4L4M9Ymc3"
      },
      "source": [
        "## 7 Model Evaluation"
      ]
    },
    {
      "cell_type": "code",
      "metadata": {
        "id": "HZab_jeGgCnX",
        "outputId": "0ed99f79-c7dc-4dc6-b7a6-602a881867be",
        "colab": {
          "base_uri": "https://localhost:8080/",
          "height": 51
        }
      },
      "source": [
        "print('Final training loss \\t', history.history['loss'][-1])\n",
        "print('Final training accuracy ', history.history['accuracy'][-1])"
      ],
      "execution_count": null,
      "outputs": [
        {
          "output_type": "stream",
          "text": [
            "Final training loss \t 0.5422173738479614\n",
            "Final training accuracy  0.737637996673584\n"
          ],
          "name": "stdout"
        }
      ]
    },
    {
      "cell_type": "code",
      "metadata": {
        "id": "siXhQ7oWgoWi",
        "outputId": "c1bc2b66-303d-453c-8b18-9e650620b2ac",
        "colab": {
          "base_uri": "https://localhost:8080/",
          "height": 51
        }
      },
      "source": [
        "print('Final Validation loss \\t', history.history['val_loss'][-1])\n",
        "print('Final Validation accuracy ', history.history['val_accuracy'][-1])"
      ],
      "execution_count": null,
      "outputs": [
        {
          "output_type": "stream",
          "text": [
            "Final Validation loss \t 0.5466596484184265\n",
            "Final Validation accuracy  0.7340234518051147\n"
          ],
          "name": "stdout"
        }
      ]
    },
    {
      "cell_type": "code",
      "metadata": {
        "id": "7y3ERbRqxpjr",
        "outputId": "586d0625-7817-4247-eb4f-3f0535523d81",
        "colab": {
          "base_uri": "https://localhost:8080/",
          "height": 34
        }
      },
      "source": [
        "testLoss, testAccuracy = model.evaluate( test_embeddings, y_test)"
      ],
      "execution_count": null,
      "outputs": [
        {
          "output_type": "stream",
          "text": [
            "10000/10000 [==============================] - 20s 2ms/step - loss: 0.5461 - accuracy: 0.7334\n"
          ],
          "name": "stdout"
        }
      ]
    },
    {
      "cell_type": "code",
      "metadata": {
        "id": "RgFnmEgtxrrX",
        "outputId": "04d97912-27d5-4882-a47c-0174027a84e3",
        "colab": {
          "base_uri": "https://localhost:8080/",
          "height": 292
        }
      },
      "source": [
        "y_pred = model.predict_classes(test_embeddings)\n",
        "y_true = y_test # np.argmax(y_test, axis=1)\n",
        "print(classification_report(y_pred, y_true))"
      ],
      "execution_count": null,
      "outputs": [
        {
          "output_type": "stream",
          "text": [
            "WARNING:tensorflow:From <ipython-input-20-4236bbeb6f93>:1: Sequential.predict_classes (from tensorflow.python.keras.engine.sequential) is deprecated and will be removed after 2021-01-01.\n",
            "Instructions for updating:\n",
            "Please use instead:* `np.argmax(model.predict(x), axis=-1)`,   if your model does multi-class classification   (e.g. if it uses a `softmax` last-layer activation).* `(model.predict(x) > 0.5).astype(\"int32\")`,   if your model does binary classification   (e.g. if it uses a `sigmoid` last-layer activation).\n"
          ],
          "name": "stdout"
        },
        {
          "output_type": "stream",
          "text": [
            "WARNING:tensorflow:From <ipython-input-20-4236bbeb6f93>:1: Sequential.predict_classes (from tensorflow.python.keras.engine.sequential) is deprecated and will be removed after 2021-01-01.\n",
            "Instructions for updating:\n",
            "Please use instead:* `np.argmax(model.predict(x), axis=-1)`,   if your model does multi-class classification   (e.g. if it uses a `softmax` last-layer activation).* `(model.predict(x) > 0.5).astype(\"int32\")`,   if your model does binary classification   (e.g. if it uses a `sigmoid` last-layer activation).\n"
          ],
          "name": "stderr"
        },
        {
          "output_type": "stream",
          "text": [
            "              precision    recall  f1-score   support\n",
            "\n",
            "           0       0.80      0.70      0.75    182429\n",
            "           1       0.66      0.77      0.71    137571\n",
            "\n",
            "    accuracy                           0.73    320000\n",
            "   macro avg       0.73      0.74      0.73    320000\n",
            "weighted avg       0.74      0.73      0.73    320000\n",
            "\n"
          ],
          "name": "stdout"
        }
      ]
    },
    {
      "cell_type": "code",
      "metadata": {
        "id": "kINTel-W3DXI",
        "outputId": "08761382-5a94-44bf-8313-c57002f6aea8",
        "colab": {
          "base_uri": "https://localhost:8080/",
          "height": 573
        }
      },
      "source": [
        "# plotting training and validation loss\n",
        "\n",
        "loss = history.history['loss']\n",
        "val_loss = history.history['val_loss']\n",
        "epochs = range(1, len(loss) + 1)\n",
        "plt.plot(epochs, loss, color='red', label='Training loss')\n",
        "plt.plot(epochs, val_loss, color='green', label='Validation loss')\n",
        "plt.title('Training and Validation loss')\n",
        "plt.xlabel('Epochs')\n",
        "plt.ylabel('Loss')\n",
        "plt.legend()\n",
        "plt.show()\n",
        "\n",
        "# plotting training and validation accuracy\n",
        "\n",
        "acc = history.history['accuracy']\n",
        "val_acc = history.history['val_accuracy']\n",
        "plt.plot(epochs, acc, color='red', label='Training acc')\n",
        "plt.plot(epochs, val_acc, color='green', label='Validation acc')\n",
        "plt.title('Training and Validation accuracy')\n",
        "plt.xlabel('Epochs')\n",
        "plt.ylabel('Accuracy')\n",
        "plt.legend()\n",
        "plt.show()"
      ],
      "execution_count": null,
      "outputs": [
        {
          "output_type": "display_data",
          "data": {
            "image/png": "[encoded data removed]",
            "text/plain": [
              "<Figure size 432x288 with 1 Axes>"
            ]
          },
          "metadata": {
            "tags": [],
            "needs_background": "light"
          }
        },
        {
          "output_type": "display_data",
          "data": {
            "image/png": "[encoded data removed]",
            "text/plain": [
              "<Figure size 432x288 with 1 Axes>"
            ]
          },
          "metadata": {
            "tags": [],
            "needs_background": "light"
          }
        }
      ]
    },
    {
      "cell_type": "code",
      "metadata": {
        "id": "3mtuokSfxvMk",
        "outputId": "a7d3461b-255a-4670-d6af-933787af1acc",
        "colab": {
          "base_uri": "https://localhost:8080/",
          "height": 51
        }
      },
      "source": [
        "print(confusion_matrix(y_pred, y_true))"
      ],
      "execution_count": null,
      "outputs": [
        {
          "output_type": "stream",
          "text": [
            "[[128504  53925]\n",
            " [ 31381 106190]]\n"
          ],
          "name": "stdout"
        }
      ]
    },
    {
      "cell_type": "markdown",
      "metadata": {
        "id": "0Mc2HFTDbL_R"
      },
      "source": [
        "# Hyperparameters Tuning"
      ]
    },
    {
      "cell_type": "markdown",
      "metadata": {
        "id": "PrZkOa6UXhGn"
      },
      "source": [
        "## Model 2 - Changing network depth"
      ]
    },
    {
      "cell_type": "markdown",
      "metadata": {
        "id": "XJz4pisYbucf"
      },
      "source": [
        "### Model Building"
      ]
    },
    {
      "cell_type": "code",
      "metadata": {
        "id": "1PIzMMQFXXG9",
        "outputId": "dc5104b6-752c-469a-dd08-859f385996d1",
        "colab": {
          "base_uri": "https://localhost:8080/",
          "height": 357
        }
      },
      "source": [
        "model_2 = keras.models.Sequential()\n",
        "\n",
        "model_2.add(keras.layers.Dense(16, activation='relu', kernel_regularizer=regularizers.l2(0.001), activity_regularizer=regularizers.l2(0.001),input_shape=train_embeddings.shape[1:]))\n",
        "model_2.add(keras.layers.Dense(128, activation='relu', kernel_regularizer=regularizers.l2(0.001), activity_regularizer=regularizers.l2(0.001)))\n",
        "model_2.add(keras.layers.Dense(64, activation='relu', kernel_regularizer=regularizers.l2(0.001), activity_regularizer=regularizers.l2(0.001)))\n",
        "model_2.add(layers.Dropout(0.2))\n",
        "\n",
        "model_2.add(keras.layers.Dense(16, activation='relu', kernel_regularizer=regularizers.l2(0.001), activity_regularizer=regularizers.l2(0.001)))\n",
        "model_2.add(keras.layers.Dense(1, activation = 'sigmoid'))\n",
        "model_2.summary()"
      ],
      "execution_count": null,
      "outputs": [
        {
          "output_type": "stream",
          "text": [
            "Model: \"sequential_1\"\n",
            "_________________________________________________________________\n",
            "Layer (type)                 Output Shape              Param #   \n",
            "=================================================================\n",
            "dense_4 (Dense)              (None, 16)                2064      \n",
            "_________________________________________________________________\n",
            "dense_5 (Dense)              (None, 128)               2176      \n",
            "_________________________________________________________________\n",
            "dense_6 (Dense)              (None, 64)                8256      \n",
            "_________________________________________________________________\n",
            "dropout_1 (Dropout)          (None, 64)                0         \n",
            "_________________________________________________________________\n",
            "dense_7 (Dense)              (None, 16)                1040      \n",
            "_________________________________________________________________\n",
            "dense_8 (Dense)              (None, 1)                 17        \n",
            "=================================================================\n",
            "Total params: 13,553\n",
            "Trainable params: 13,553\n",
            "Non-trainable params: 0\n",
            "_________________________________________________________________\n"
          ],
          "name": "stdout"
        }
      ]
    },
    {
      "cell_type": "markdown",
      "metadata": {
        "id": "v0rDBEnabucg"
      },
      "source": [
        "### Model Compilation"
      ]
    },
    {
      "cell_type": "code",
      "metadata": {
        "id": "CS5elZJjZXPr"
      },
      "source": [
        "opt = keras.optimizers.Adam(learning_rate=0.01)\n",
        "\n",
        "model_2.compile(loss='binary_crossentropy', optimizer=opt, metrics=['accuracy'])"
      ],
      "execution_count": null,
      "outputs": []
    },
    {
      "cell_type": "markdown",
      "metadata": {
        "id": "r-IeUaBTbuch"
      },
      "source": [
        "### Model Training"
      ]
    },
    {
      "cell_type": "code",
      "metadata": {
        "id": "EsdIUeoBZW1w",
        "outputId": "58a16db8-b2db-484d-dbe4-942c0b4dfc97",
        "colab": {
          "base_uri": "https://localhost:8080/",
          "height": 904
        }
      },
      "source": [
        "start_time = time.time()\n",
        "\n",
        "history = model_2.fit(train_embeddings, y_train, epochs = 25, batch_size=10000, validation_split=0.2)\n",
        "\n",
        "print(f\" Total training time is {time.time() - start_time} seconds\")"
      ],
      "execution_count": null,
      "outputs": [
        {
          "output_type": "stream",
          "text": [
            "Epoch 1/25\n",
            "103/103 [==============================] - 1s 11ms/step - loss: 0.6056 - accuracy: 0.7030 - val_loss: 0.5680 - val_accuracy: 0.7233\n",
            "Epoch 2/25\n",
            "103/103 [==============================] - 1s 9ms/step - loss: 0.5660 - accuracy: 0.7239 - val_loss: 0.5641 - val_accuracy: 0.7244\n",
            "Epoch 3/25\n",
            "103/103 [==============================] - 1s 9ms/step - loss: 0.5588 - accuracy: 0.7289 - val_loss: 0.5573 - val_accuracy: 0.7284\n",
            "Epoch 4/25\n",
            "103/103 [==============================] - 1s 9ms/step - loss: 0.5565 - accuracy: 0.7305 - val_loss: 0.5575 - val_accuracy: 0.7276\n",
            "Epoch 5/25\n",
            "103/103 [==============================] - 1s 9ms/step - loss: 0.5544 - accuracy: 0.7317 - val_loss: 0.5503 - val_accuracy: 0.7344\n",
            "Epoch 6/25\n",
            "103/103 [==============================] - 1s 9ms/step - loss: 0.5525 - accuracy: 0.7324 - val_loss: 0.5568 - val_accuracy: 0.7284\n",
            "Epoch 7/25\n",
            "103/103 [==============================] - 1s 9ms/step - loss: 0.5525 - accuracy: 0.7324 - val_loss: 0.5515 - val_accuracy: 0.7315\n",
            "Epoch 8/25\n",
            "103/103 [==============================] - 1s 9ms/step - loss: 0.5505 - accuracy: 0.7331 - val_loss: 0.5495 - val_accuracy: 0.7328\n",
            "Epoch 9/25\n",
            "103/103 [==============================] - 1s 9ms/step - loss: 0.5527 - accuracy: 0.7320 - val_loss: 0.5483 - val_accuracy: 0.7344\n",
            "Epoch 10/25\n",
            "103/103 [==============================] - 1s 9ms/step - loss: 0.5508 - accuracy: 0.7331 - val_loss: 0.5487 - val_accuracy: 0.7332\n",
            "Epoch 11/25\n",
            "103/103 [==============================] - 1s 9ms/step - loss: 0.5494 - accuracy: 0.7338 - val_loss: 0.5470 - val_accuracy: 0.7342\n",
            "Epoch 12/25\n",
            "103/103 [==============================] - 1s 9ms/step - loss: 0.5508 - accuracy: 0.7323 - val_loss: 0.5469 - val_accuracy: 0.7345\n",
            "Epoch 13/25\n",
            "103/103 [==============================] - 1s 10ms/step - loss: 0.5488 - accuracy: 0.7335 - val_loss: 0.5464 - val_accuracy: 0.7350\n",
            "Epoch 14/25\n",
            "103/103 [==============================] - 1s 9ms/step - loss: 0.5481 - accuracy: 0.7339 - val_loss: 0.5483 - val_accuracy: 0.7335\n",
            "Epoch 15/25\n",
            "103/103 [==============================] - 1s 9ms/step - loss: 0.5488 - accuracy: 0.7334 - val_loss: 0.5447 - val_accuracy: 0.7354\n",
            "Epoch 16/25\n",
            "103/103 [==============================] - 1s 9ms/step - loss: 0.5489 - accuracy: 0.7328 - val_loss: 0.5449 - val_accuracy: 0.7350\n",
            "Epoch 17/25\n",
            "103/103 [==============================] - 1s 9ms/step - loss: 0.5481 - accuracy: 0.7334 - val_loss: 0.5453 - val_accuracy: 0.7355\n",
            "Epoch 18/25\n",
            "103/103 [==============================] - 1s 9ms/step - loss: 0.5472 - accuracy: 0.7340 - val_loss: 0.5484 - val_accuracy: 0.7321\n",
            "Epoch 19/25\n",
            "103/103 [==============================] - 1s 9ms/step - loss: 0.5479 - accuracy: 0.7332 - val_loss: 0.5465 - val_accuracy: 0.7346\n",
            "Epoch 20/25\n",
            "103/103 [==============================] - 1s 9ms/step - loss: 0.5474 - accuracy: 0.7341 - val_loss: 0.5495 - val_accuracy: 0.7313\n",
            "Epoch 21/25\n",
            "103/103 [==============================] - 1s 9ms/step - loss: 0.5477 - accuracy: 0.7334 - val_loss: 0.5429 - val_accuracy: 0.7361\n",
            "Epoch 22/25\n",
            "103/103 [==============================] - 1s 9ms/step - loss: 0.5477 - accuracy: 0.7332 - val_loss: 0.5477 - val_accuracy: 0.7335\n",
            "Epoch 23/25\n",
            "103/103 [==============================] - 1s 9ms/step - loss: 0.5472 - accuracy: 0.7340 - val_loss: 0.5435 - val_accuracy: 0.7358\n",
            "Epoch 24/25\n",
            "103/103 [==============================] - 1s 8ms/step - loss: 0.5469 - accuracy: 0.7342 - val_loss: 0.5455 - val_accuracy: 0.7346\n",
            "Epoch 25/25\n",
            "103/103 [==============================] - 1s 9ms/step - loss: 0.5460 - accuracy: 0.7342 - val_loss: 0.5449 - val_accuracy: 0.7343\n",
            " Total training time is 24.42834997177124 seconds\n"
          ],
          "name": "stdout"
        }
      ]
    },
    {
      "cell_type": "markdown",
      "metadata": {
        "id": "cTE1dqiDbuch"
      },
      "source": [
        "### Model Evaluation"
      ]
    },
    {
      "cell_type": "code",
      "metadata": {
        "id": "C0cnWxVyXXHW",
        "outputId": "5cbc0623-a150-4e20-d7cf-1c7cefb20d31",
        "colab": {
          "base_uri": "https://localhost:8080/",
          "height": 51
        }
      },
      "source": [
        "print('Final training loss \\t', history.history['loss'][-1])\n",
        "print('Final training accuracy ', history.history['accuracy'][-1])"
      ],
      "execution_count": null,
      "outputs": [
        {
          "output_type": "stream",
          "text": [
            "Final training loss \t 0.5460317730903625\n",
            "Final training accuracy  0.734201192855835\n"
          ],
          "name": "stdout"
        }
      ]
    },
    {
      "cell_type": "code",
      "metadata": {
        "id": "74niQHU5XXHn",
        "outputId": "a202b75e-3c4e-4fb8-d724-593664a18391",
        "colab": {
          "base_uri": "https://localhost:8080/",
          "height": 51
        }
      },
      "source": [
        "print('Final Validation loss \\t', history.history['val_loss'][-1])\n",
        "print('Final Validation accuracy ', history.history['val_accuracy'][-1])"
      ],
      "execution_count": null,
      "outputs": [
        {
          "output_type": "stream",
          "text": [
            "Final Validation loss \t 0.5448998808860779\n",
            "Final Validation accuracy  0.7343242168426514\n"
          ],
          "name": "stdout"
        }
      ]
    },
    {
      "cell_type": "code",
      "metadata": {
        "id": "pnO8x7WaXXHy",
        "outputId": "5952670a-5d6e-4a27-a320-20a98a8ddf39",
        "colab": {
          "base_uri": "https://localhost:8080/",
          "height": 34
        }
      },
      "source": [
        "testLoss, testAccuracy = model_2.evaluate( test_embeddings, y_test)"
      ],
      "execution_count": null,
      "outputs": [
        {
          "output_type": "stream",
          "text": [
            "10000/10000 [==============================] - 21s 2ms/step - loss: 0.5444 - accuracy: 0.7349\n"
          ],
          "name": "stdout"
        }
      ]
    },
    {
      "cell_type": "code",
      "metadata": {
        "id": "E0UC4PaeXXH_",
        "outputId": "9f120adf-f943-4a70-80a0-0dc2e8bbe60a",
        "colab": {
          "base_uri": "https://localhost:8080/",
          "height": 170
        }
      },
      "source": [
        "y_pred = model_2.predict_classes(test_embeddings)\n",
        "y_true = y_test\n",
        "print(classification_report(y_pred, y_true))"
      ],
      "execution_count": null,
      "outputs": [
        {
          "output_type": "stream",
          "text": [
            "              precision    recall  f1-score   support\n",
            "\n",
            "           0       0.70      0.75      0.73    149918\n",
            "           1       0.77      0.72      0.74    170082\n",
            "\n",
            "    accuracy                           0.73    320000\n",
            "   macro avg       0.73      0.74      0.73    320000\n",
            "weighted avg       0.74      0.73      0.74    320000\n",
            "\n"
          ],
          "name": "stdout"
        }
      ]
    },
    {
      "cell_type": "code",
      "metadata": {
        "id": "Mk31MNocXXIM",
        "outputId": "63b22d35-d482-4f7a-bc28-288bc11124db",
        "colab": {
          "base_uri": "https://localhost:8080/",
          "height": 573
        }
      },
      "source": [
        "# plotting training and validation loss\n",
        "\n",
        "loss = history.history['loss']\n",
        "val_loss = history.history['val_loss']\n",
        "epochs = range(1, len(loss) + 1)\n",
        "plt.plot(epochs, loss, color='red', label='Training loss')\n",
        "plt.plot(epochs, val_loss, color='green', label='Validation loss')\n",
        "plt.title('Training and Validation loss')\n",
        "plt.xlabel('Epochs')\n",
        "plt.ylabel('Loss')\n",
        "plt.legend()\n",
        "plt.show()\n",
        "\n",
        "# plotting training and validation accuracy\n",
        "\n",
        "acc = history.history['accuracy']\n",
        "val_acc = history.history['val_accuracy']\n",
        "plt.plot(epochs, acc, color='red', label='Training acc')\n",
        "plt.plot(epochs, val_acc, color='green', label='Validation acc')\n",
        "plt.title('Training and Validation accuracy')\n",
        "plt.xlabel('Epochs')\n",
        "plt.ylabel('Accuracy')\n",
        "plt.legend()\n",
        "plt.show()"
      ],
      "execution_count": null,
      "outputs": [
        {
          "output_type": "display_data",
          "data": {
            "image/png": "[encoded data removed]",
            "text/plain": [
              "<Figure size 432x288 with 1 Axes>"
            ]
          },
          "metadata": {
            "tags": [],
            "needs_background": "light"
          }
        },
        {
          "output_type": "display_data",
          "data": {
            "image/png": "[encoded data removed]",
            "text/plain": [
              "<Figure size 432x288 with 1 Axes>"
            ]
          },
          "metadata": {
            "tags": [],
            "needs_background": "light"
          }
        }
      ]
    },
    {
      "cell_type": "code",
      "metadata": {
        "id": "YjzdFQMiXXIn",
        "outputId": "49f2350f-a4a3-4104-cb64-b8beacdd9ef2",
        "colab": {
          "base_uri": "https://localhost:8080/",
          "height": 51
        }
      },
      "source": [
        "print(confusion_matrix(y_pred, y_true))"
      ],
      "execution_count": null,
      "outputs": [
        {
          "output_type": "stream",
          "text": [
            "[[112479  37439]\n",
            " [ 47406 122676]]\n"
          ],
          "name": "stdout"
        }
      ]
    },
    {
      "cell_type": "markdown",
      "metadata": {
        "id": "STi03ewcacBM"
      },
      "source": [
        "## Model 3 - Changing Optimiser"
      ]
    },
    {
      "cell_type": "markdown",
      "metadata": {
        "id": "8Fk3GJPgcPFJ"
      },
      "source": [
        "### Model Building"
      ]
    },
    {
      "cell_type": "code",
      "metadata": {
        "id": "wI6RzB5BagRC",
        "outputId": "c2d3f2b8-95de-48e8-bfb9-581d054d6930",
        "colab": {
          "base_uri": "https://localhost:8080/",
          "height": 357
        }
      },
      "source": [
        "model_3 = keras.models.Sequential()\n",
        "\n",
        "model_3.add(keras.layers.Dense(16, activation='relu', kernel_regularizer=regularizers.l2(0.001), activity_regularizer=regularizers.l2(0.001),input_shape=train_embeddings.shape[1:]))\n",
        "model_3.add(keras.layers.Dense(128, activation='relu', kernel_regularizer=regularizers.l2(0.001), activity_regularizer=regularizers.l2(0.001)))\n",
        "model_3.add(keras.layers.Dense(64, activation='relu', kernel_regularizer=regularizers.l2(0.001), activity_regularizer=regularizers.l2(0.001)))\n",
        "model_3.add(layers.Dropout(0.2))\n",
        "\n",
        "model_3.add(keras.layers.Dense(16, activation='relu', kernel_regularizer=regularizers.l2(0.001), activity_regularizer=regularizers.l2(0.001)))\n",
        "model_3.add(keras.layers.Dense(1, activation = 'sigmoid'))\n",
        "\n",
        "model_3.summary()"
      ],
      "execution_count": null,
      "outputs": [
        {
          "output_type": "stream",
          "text": [
            "Model: \"sequential_2\"\n",
            "_________________________________________________________________\n",
            "Layer (type)                 Output Shape              Param #   \n",
            "=================================================================\n",
            "dense_9 (Dense)              (None, 16)                2064      \n",
            "_________________________________________________________________\n",
            "dense_10 (Dense)             (None, 128)               2176      \n",
            "_________________________________________________________________\n",
            "dense_11 (Dense)             (None, 64)                8256      \n",
            "_________________________________________________________________\n",
            "dropout_2 (Dropout)          (None, 64)                0         \n",
            "_________________________________________________________________\n",
            "dense_12 (Dense)             (None, 16)                1040      \n",
            "_________________________________________________________________\n",
            "dense_13 (Dense)             (None, 1)                 17        \n",
            "=================================================================\n",
            "Total params: 13,553\n",
            "Trainable params: 13,553\n",
            "Non-trainable params: 0\n",
            "_________________________________________________________________\n"
          ],
          "name": "stdout"
        }
      ]
    },
    {
      "cell_type": "markdown",
      "metadata": {
        "id": "QX8XkD-gcPFK"
      },
      "source": [
        "### Model Compilation"
      ]
    },
    {
      "cell_type": "code",
      "metadata": {
        "id": "O5G2tVUpcph2"
      },
      "source": [
        "opt = keras.optimizers.RMSprop(learning_rate=0.01)\n",
        "model_3.compile(loss='binary_crossentropy', optimizer=opt, metrics=['accuracy'])"
      ],
      "execution_count": null,
      "outputs": []
    },
    {
      "cell_type": "markdown",
      "metadata": {
        "id": "Z0MWbcZtcPFL"
      },
      "source": [
        "### Model Training"
      ]
    },
    {
      "cell_type": "code",
      "metadata": {
        "id": "KcJU7o50c3C0",
        "outputId": "76cf9333-8433-4e6d-f2ff-4d0efea0214e",
        "colab": {
          "base_uri": "https://localhost:8080/",
          "height": 884
        }
      },
      "source": [
        "start_time = time.time()\n",
        "history = model_3.fit(train_embeddings, y_train, epochs = 25, batch_size=10000, validation_split=0.2)\n",
        "\n",
        "print(f\" Total training time is {time.time() - start_time} seconds\")"
      ],
      "execution_count": null,
      "outputs": [
        {
          "output_type": "stream",
          "text": [
            "Epoch 1/25\n",
            "103/103 [==============================] - 1s 12ms/step - loss: 0.6377 - accuracy: 0.6709 - val_loss: 0.5949 - val_accuracy: 0.7054\n",
            "Epoch 2/25\n",
            "103/103 [==============================] - 1s 9ms/step - loss: 0.6018 - accuracy: 0.6995 - val_loss: 0.5810 - val_accuracy: 0.7158\n",
            "Epoch 3/25\n",
            "103/103 [==============================] - 1s 9ms/step - loss: 0.5967 - accuracy: 0.7026 - val_loss: 0.5948 - val_accuracy: 0.6985\n",
            "Epoch 4/25\n",
            "103/103 [==============================] - 1s 9ms/step - loss: 0.5934 - accuracy: 0.7041 - val_loss: 0.5880 - val_accuracy: 0.7081\n",
            "Epoch 5/25\n",
            "103/103 [==============================] - 1s 9ms/step - loss: 0.5914 - accuracy: 0.7050 - val_loss: 0.5795 - val_accuracy: 0.7162\n",
            "Epoch 6/25\n",
            "103/103 [==============================] - 1s 10ms/step - loss: 0.5908 - accuracy: 0.7065 - val_loss: 0.5789 - val_accuracy: 0.7147\n",
            "Epoch 7/25\n",
            "103/103 [==============================] - 1s 9ms/step - loss: 0.5898 - accuracy: 0.7072 - val_loss: 0.5901 - val_accuracy: 0.7093\n",
            "Epoch 8/25\n",
            "103/103 [==============================] - 1s 9ms/step - loss: 0.5896 - accuracy: 0.7076 - val_loss: 0.5863 - val_accuracy: 0.7062\n",
            "Epoch 9/25\n",
            "103/103 [==============================] - 1s 9ms/step - loss: 0.5889 - accuracy: 0.7078 - val_loss: 0.5832 - val_accuracy: 0.7115\n",
            "Epoch 10/25\n",
            "103/103 [==============================] - 1s 9ms/step - loss: 0.5887 - accuracy: 0.7078 - val_loss: 0.5875 - val_accuracy: 0.7031\n",
            "Epoch 11/25\n",
            "103/103 [==============================] - 1s 9ms/step - loss: 0.5883 - accuracy: 0.7082 - val_loss: 0.5912 - val_accuracy: 0.7058\n",
            "Epoch 12/25\n",
            "103/103 [==============================] - 1s 9ms/step - loss: 0.5874 - accuracy: 0.7083 - val_loss: 0.5942 - val_accuracy: 0.6928\n",
            "Epoch 13/25\n",
            "103/103 [==============================] - 1s 10ms/step - loss: 0.5869 - accuracy: 0.7086 - val_loss: 0.5914 - val_accuracy: 0.6992\n",
            "Epoch 14/25\n",
            "103/103 [==============================] - 1s 9ms/step - loss: 0.5867 - accuracy: 0.7082 - val_loss: 0.5912 - val_accuracy: 0.7056\n",
            "Epoch 15/25\n",
            "103/103 [==============================] - 1s 9ms/step - loss: 0.5865 - accuracy: 0.7088 - val_loss: 0.6006 - val_accuracy: 0.6911\n",
            "Epoch 16/25\n",
            "103/103 [==============================] - 1s 9ms/step - loss: 0.5868 - accuracy: 0.7072 - val_loss: 0.5804 - val_accuracy: 0.7133\n",
            "Epoch 17/25\n",
            "103/103 [==============================] - 1s 10ms/step - loss: 0.5856 - accuracy: 0.7086 - val_loss: 0.5871 - val_accuracy: 0.7083\n",
            "Epoch 18/25\n",
            "103/103 [==============================] - 1s 9ms/step - loss: 0.5855 - accuracy: 0.7089 - val_loss: 0.5877 - val_accuracy: 0.7034\n",
            "Epoch 19/25\n",
            "103/103 [==============================] - 1s 9ms/step - loss: 0.5855 - accuracy: 0.7085 - val_loss: 0.5849 - val_accuracy: 0.7079\n",
            "Epoch 20/25\n",
            "103/103 [==============================] - 1s 9ms/step - loss: 0.5854 - accuracy: 0.7093 - val_loss: 0.5885 - val_accuracy: 0.7037\n",
            "Epoch 21/25\n",
            "103/103 [==============================] - 1s 9ms/step - loss: 0.5849 - accuracy: 0.7091 - val_loss: 0.5906 - val_accuracy: 0.7063\n",
            "Epoch 22/25\n",
            "103/103 [==============================] - 1s 10ms/step - loss: 0.5848 - accuracy: 0.7090 - val_loss: 0.5773 - val_accuracy: 0.7120\n",
            "Epoch 23/25\n",
            "103/103 [==============================] - 1s 9ms/step - loss: 0.5850 - accuracy: 0.7089 - val_loss: 0.5869 - val_accuracy: 0.7067\n",
            "Epoch 24/25\n",
            "103/103 [==============================] - 1s 9ms/step - loss: 0.5845 - accuracy: 0.7091 - val_loss: 0.5750 - val_accuracy: 0.7140\n",
            "Epoch 25/25\n",
            "103/103 [==============================] - 1s 8ms/step - loss: 0.5845 - accuracy: 0.7094 - val_loss: 0.5738 - val_accuracy: 0.7158\n",
            " Total training time is 25.255831241607666 seconds\n"
          ],
          "name": "stdout"
        }
      ]
    },
    {
      "cell_type": "markdown",
      "metadata": {
        "id": "fAdzznsXcPFL"
      },
      "source": [
        "### Model Evaluation"
      ]
    },
    {
      "cell_type": "code",
      "metadata": {
        "id": "3g6PTildagRS",
        "outputId": "b3660c9c-412a-4313-c791-3ac2444399d3",
        "colab": {
          "base_uri": "https://localhost:8080/",
          "height": 51
        }
      },
      "source": [
        "print('Final training loss \\t', history.history['loss'][-1])\n",
        "print('Final training accuracy ', history.history['accuracy'][-1])"
      ],
      "execution_count": null,
      "outputs": [
        {
          "output_type": "stream",
          "text": [
            "Final training loss \t 0.5845367312431335\n",
            "Final training accuracy  0.7093769311904907\n"
          ],
          "name": "stdout"
        }
      ]
    },
    {
      "cell_type": "code",
      "metadata": {
        "id": "RhbOsPMNagRb",
        "outputId": "bfd768e1-4ba7-435d-b4cf-6a2854779158",
        "colab": {
          "base_uri": "https://localhost:8080/",
          "height": 51
        }
      },
      "source": [
        "print('Final Validation loss \\t', history.history['val_loss'][-1])\n",
        "print('Final Validation accuracy ', history.history['val_accuracy'][-1])"
      ],
      "execution_count": null,
      "outputs": [
        {
          "output_type": "stream",
          "text": [
            "Final Validation loss \t 0.5738159418106079\n",
            "Final Validation accuracy  0.7157655954360962\n"
          ],
          "name": "stdout"
        }
      ]
    },
    {
      "cell_type": "code",
      "metadata": {
        "id": "hZ2t7CT3agRn",
        "outputId": "5a126477-5a5a-4aba-d5f6-b81e6f2feafd",
        "colab": {
          "base_uri": "https://localhost:8080/",
          "height": 34
        }
      },
      "source": [
        "testLoss, testAccuracy = model_3.evaluate( test_embeddings, y_test)"
      ],
      "execution_count": null,
      "outputs": [
        {
          "output_type": "stream",
          "text": [
            "10000/10000 [==============================] - 20s 2ms/step - loss: 0.5727 - accuracy: 0.7167\n"
          ],
          "name": "stdout"
        }
      ]
    },
    {
      "cell_type": "code",
      "metadata": {
        "id": "su6hyXkJagRw",
        "outputId": "544055d8-f7de-4675-eaf2-a58fd9ecca25",
        "colab": {
          "base_uri": "https://localhost:8080/",
          "height": 170
        }
      },
      "source": [
        "y_pred = model_3.predict_classes(test_embeddings)\n",
        "y_true = y_test\n",
        "print(classification_report(y_pred, y_true))"
      ],
      "execution_count": null,
      "outputs": [
        {
          "output_type": "stream",
          "text": [
            "              precision    recall  f1-score   support\n",
            "\n",
            "           0       0.77      0.69      0.73    178274\n",
            "           1       0.66      0.75      0.70    141726\n",
            "\n",
            "    accuracy                           0.72    320000\n",
            "   macro avg       0.72      0.72      0.72    320000\n",
            "weighted avg       0.72      0.72      0.72    320000\n",
            "\n"
          ],
          "name": "stdout"
        }
      ]
    },
    {
      "cell_type": "code",
      "metadata": {
        "id": "MkLlHgfBagSG",
        "outputId": "e88a554d-3f11-4f2d-ebd5-213fecb07829",
        "colab": {
          "base_uri": "https://localhost:8080/",
          "height": 573
        }
      },
      "source": [
        "# plotting training and validation loss\n",
        "\n",
        "loss = history.history['loss']\n",
        "val_loss = history.history['val_loss']\n",
        "epochs = range(1, len(loss) + 1)\n",
        "plt.plot(epochs, loss, color='red', label='Training loss')\n",
        "plt.plot(epochs, val_loss, color='green', label='Validation loss')\n",
        "plt.title('Training and Validation loss')\n",
        "plt.xlabel('Epochs')\n",
        "plt.ylabel('Loss')\n",
        "plt.legend()\n",
        "plt.show()\n",
        "\n",
        "# plotting training and validation accuracy\n",
        "\n",
        "acc = history.history['accuracy']\n",
        "val_acc = history.history['val_accuracy']\n",
        "plt.plot(epochs, acc, color='red', label='Training acc')\n",
        "plt.plot(epochs, val_acc, color='green', label='Validation acc')\n",
        "plt.title('Training and Validation accuracy')\n",
        "plt.xlabel('Epochs')\n",
        "plt.ylabel('Acccuracy')\n",
        "plt.legend()\n",
        "plt.show()"
      ],
      "execution_count": null,
      "outputs": [
        {
          "output_type": "display_data",
          "data": {
            "image/png": "[encoded data removed]",
            "text/plain": [
              "<Figure size 432x288 with 1 Axes>"
            ]
          },
          "metadata": {
            "tags": [],
            "needs_background": "light"
          }
        },
        {
          "output_type": "display_data",
          "data": {
            "image/png": "[encoded data removed]",
            "text/plain": [
              "<Figure size 432x288 with 1 Axes>"
            ]
          },
          "metadata": {
            "tags": [],
            "needs_background": "light"
          }
        }
      ]
    },
    {
      "cell_type": "code",
      "metadata": {
        "id": "kjkcbpEgagSk",
        "outputId": "d07ee21b-e96c-4f3b-a2e4-da105e6e2576",
        "colab": {
          "base_uri": "https://localhost:8080/",
          "height": 51
        }
      },
      "source": [
        "print(confusion_matrix(y_pred, y_true))"
      ],
      "execution_count": null,
      "outputs": [
        {
          "output_type": "stream",
          "text": [
            "[[123759  54515]\n",
            " [ 36126 105600]]\n"
          ],
          "name": "stdout"
        }
      ]
    },
    {
      "cell_type": "markdown",
      "metadata": {
        "id": "ahKCwlE3dKlt"
      },
      "source": [
        "# Comparison \n",
        "Adding additional hidden layer with different set of hidden nodes dosen't seem to be impacting the accuracy of the model. Changing the optimizer from Adam to RMSProp decreases the accuracy of the model. The state of the art accuracy for this dataset is in the range of 86%."
      ]
    },
    {
      "cell_type": "code",
      "metadata": {
        "id": "uB1_xH8-dMKf"
      },
      "source": [
        ""
      ],
      "execution_count": null,
      "outputs": []
    }
  ]
}