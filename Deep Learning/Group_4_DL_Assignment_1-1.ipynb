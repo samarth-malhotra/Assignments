{
  "nbformat": 4,
  "nbformat_minor": 0,
  "metadata": {
    "colab": {
      "name": "DL Assignment 1.ipynb",
      "provenance": [],
      "collapsed_sections": []
    },
    "kernelspec": {
      "name": "python3",
      "display_name": "Python 3"
    },
    "accelerator": "GPU"
  },
  "cells": [
    {
      "cell_type": "markdown",
      "metadata": {
        "id": "3on9KKzmHBVy"
      },
      "source": [
        "# Question 1: Vision Dataset - CIFAR-10"
      ]
    },
    {
      "cell_type": "markdown",
      "metadata": {
        "id": "ulgPdnOAHGbC"
      },
      "source": [
        "## 1 Import Libraries/Dataset"
      ]
    },
    {
      "cell_type": "markdown",
      "metadata": {
        "id": "pKAutvXzK-gt"
      },
      "source": [
        "### a. Import required libraries"
      ]
    },
    {
      "cell_type": "code",
      "metadata": {
        "id": "xEZqt9-BF1XW"
      },
      "source": [
        "# Import necessary libraries\n",
        "import matplotlib\n",
        "import matplotlib.pyplot as plt\n",
        "import numpy as np\n",
        "from tensorflow.keras.datasets import cifar10\n",
        "import tensorflow as tf\n",
        "from tensorflow.keras import models, layers, regularizers\n",
        "from tensorflow import keras\n",
        "from sklearn.metrics import confusion_matrix, classification_report\n",
        "import time"
      ],
      "execution_count": null,
      "outputs": []
    },
    {
      "cell_type": "markdown",
      "metadata": {
        "id": "ZFfbC4dbHtNY"
      },
      "source": [
        "### c. Check the GPU available"
      ]
    },
    {
      "cell_type": "code",
      "metadata": {
        "id": "D9vTT6R3Syw6",
        "outputId": "664772d8-936d-410f-b295-cd5dea6d6e36",
        "colab": {
          "base_uri": "https://localhost:8080/",
          "height": 34
        }
      },
      "source": [
        "tf.keras.backend.clear_session()\n",
        "tf.config.optimizer.set_jit(False) # Start with XLA disabled.\n",
        "\n",
        "# Check if GPU is available\n",
        "tf.config.list_physical_devices('GPU')"
      ],
      "execution_count": null,
      "outputs": [
        {
          "output_type": "execute_result",
          "data": {
            "text/plain": [
              "[PhysicalDevice(name='/physical_device:GPU:0', device_type='GPU')]"
            ]
          },
          "metadata": {
            "tags": []
          },
          "execution_count": 24
        }
      ]
    },
    {
      "cell_type": "markdown",
      "metadata": {
        "id": "1JHHbUOHHmF6"
      },
      "source": [
        "### b. Import the dataset"
      ]
    },
    {
      "cell_type": "code",
      "metadata": {
        "id": "qy8KXQNrShD9"
      },
      "source": [
        "# Load CIFAR-10 dataset from Tensorflow datasets\n",
        "def load_data():\n",
        "  (x_train, y_train), (x_test, y_test) = cifar10.load_data()\n",
        "  x_train = x_train.astype('float32') / 255\n",
        "  x_test = x_test.astype('float32') / 255\n",
        "\n",
        "  # Convert class vectors to binary class matrices.\n",
        "  y_train = tf.keras.utils.to_categorical(y_train, num_classes=10)\n",
        "  y_test = tf.keras.utils.to_categorical(y_test, num_classes=10)\n",
        "  return ((x_train, y_train), (x_test, y_test))\n",
        "\n",
        "(x_train, y_train), (x_test, y_test) = load_data()"
      ],
      "execution_count": null,
      "outputs": []
    },
    {
      "cell_type": "markdown",
      "metadata": {
        "id": "GJn0mH8yLWIf"
      },
      "source": [
        "## 2 Data Visualization "
      ]
    },
    {
      "cell_type": "code",
      "metadata": {
        "id": "aRWgFCpvBneE"
      },
      "source": [
        "# Get labels from meta file\n",
        "def unpickle(file):\n",
        "    import pickle\n",
        "    with open(file, 'rb') as fo:\n",
        "        dict = pickle.load(fo, encoding='bytes')\n",
        "    return dict\n",
        "\n",
        "meta = '/content/drive/My Drive/Colab Notebooks/batches.meta'\n",
        "d = unpickle(meta)\n",
        "labels = d[b'label_names']\n",
        "labels = [x.decode('utf-8') for x in labels]"
      ],
      "execution_count": null,
      "outputs": []
    },
    {
      "cell_type": "code",
      "metadata": {
        "id": "LI8p40C-FIIN"
      },
      "source": [
        "# Create collection of samples from each class\n",
        "unique_labels = {}\n",
        "\n",
        "for idx, data in enumerate(y_train):\n",
        "  label = np.argmax(data)\n",
        "  unique_labels[label] = idx\n",
        "  if len(unique_labels) == 10:\n",
        "    break"
      ],
      "execution_count": null,
      "outputs": []
    },
    {
      "cell_type": "markdown",
      "metadata": {
        "id": "NvpACotvIexy"
      },
      "source": [
        "### a. Sample from each class"
      ]
    },
    {
      "cell_type": "code",
      "metadata": {
        "id": "g-sMRakaN77D",
        "outputId": "3bd62e1d-2838-4740-bf35-18c77f2e4800",
        "colab": {
          "base_uri": "https://localhost:8080/",
          "height": 217
        }
      },
      "source": [
        "fig, axs = plt.subplots(nrows=2, ncols=5, figsize=(6, 3),\n",
        "                        subplot_kw={'xticks': [], 'yticks': []})\n",
        "\n",
        "for ax, img_dict in zip(axs.flat, unique_labels.items()):\n",
        "    ax.imshow(x_train[img_dict[1]])\n",
        "    ax.set_title(labels[img_dict[0]])\n",
        "\n",
        "plt.tight_layout()\n",
        "plt.show()"
      ],
      "execution_count": null,
      "outputs": [
        {
          "output_type": "display_data",
          "data": {
            "image/png": "[encoded data removed]",
            "text/plain": [
              "<Figure size 432x216 with 10 Axes>"
            ]
          },
          "metadata": {
            "tags": []
          }
        }
      ]
    },
    {
      "cell_type": "markdown",
      "metadata": {
        "id": "WGvmVli4Im_I"
      },
      "source": [
        "### b. Shape of train and test data"
      ]
    },
    {
      "cell_type": "code",
      "metadata": {
        "id": "bosouDxCO8P4",
        "outputId": "ca57c065-d3e3-4f7f-9b04-dd1bfee65f06",
        "colab": {
          "base_uri": "https://localhost:8080/",
          "height": 51
        }
      },
      "source": [
        "print(f\"Train data shape is {x_train.shape}\") \n",
        "print(f\"Test data shape is {x_test.shape}\")"
      ],
      "execution_count": null,
      "outputs": [
        {
          "output_type": "stream",
          "text": [
            "Train data shape is (50000, 32, 32, 3)\n",
            "Test data shape is (10000, 32, 32, 3)\n"
          ],
          "name": "stdout"
        }
      ]
    },
    {
      "cell_type": "markdown",
      "metadata": {
        "id": "ZkcFbO2eLz1t"
      },
      "source": [
        "## 3 Data  Pre-processing\n",
        "### a. Reshaping the data into the required format"
      ]
    },
    {
      "cell_type": "code",
      "metadata": {
        "id": "RJoUZXiZhn8W"
      },
      "source": [
        "x_train = x_train.reshape((50000, 32*32*3))\n",
        "x_test = x_test.reshape((10000, 32*32*3))"
      ],
      "execution_count": null,
      "outputs": []
    },
    {
      "cell_type": "markdown",
      "metadata": {
        "id": "PTwfsLYaMdlR"
      },
      "source": [
        "## 4 Model Building\n"
      ]
    },
    {
      "cell_type": "markdown",
      "metadata": {
        "id": "OxcBt3XrkfuD"
      },
      "source": [
        "### a. Sequential Model layers\n",
        "  * We have used 4 hidden layers. The number of nodes were adjusted after experimenting with different counts and choosing the ones with best performance.\n",
        "\n",
        "### b. Added regularization with regularization parameter = 0.001. Adding regularization to all layers negatively impacts the accuracy hence we have used it only for 2 layers.\n",
        "### c. Added dropout at layer 2. Dropout is a regularization method that approximates training a large number of neural networks with different architectures in parallel. It is a computationally cheap way to regularize a deep neural network.\n",
        "### d. Activation functions used for each layer as \n",
        "  * layer 1 - relu\n",
        "  * layer 2 - relu\n",
        "  * layer 3 - relu\n",
        "  * layer 4 - softmax\n",
        "\n",
        "### e. Model summary printed"
      ]
    },
    {
      "cell_type": "code",
      "metadata": {
        "id": "3gEu4HEFz4By",
        "outputId": "e85960ae-e744-4544-c585-5228fe983297",
        "colab": {
          "base_uri": "https://localhost:8080/",
          "height": 459
        }
      },
      "source": [
        "model = tf.keras.models.Sequential([\n",
        "    tf.keras.layers.Dense(50, input_shape=x_train.shape[1:]),\n",
        "    tf.keras.layers.Activation('relu'),\n",
        "    \n",
        "\n",
        "    tf.keras.layers.Dense(32,kernel_regularizer = regularizers.l2(l2=0.001)),\n",
        "    tf.keras.layers.Activation('relu'),\n",
        "    tf.keras.layers.Dropout(0.1),\n",
        "\n",
        "    tf.keras.layers.Dense(32,kernel_regularizer = regularizers.l2(l2=0.001)),\n",
        "    tf.keras.layers.Activation('relu'),\n",
        "\n",
        "    tf.keras.layers.Dense(10),\n",
        "    tf.keras.layers.Activation('softmax')\n",
        "  ])\n",
        "\n",
        "model.summary()"
      ],
      "execution_count": null,
      "outputs": [
        {
          "output_type": "stream",
          "text": [
            "Model: \"sequential\"\n",
            "_________________________________________________________________\n",
            "Layer (type)                 Output Shape              Param #   \n",
            "=================================================================\n",
            "dense (Dense)                (None, 50)                153650    \n",
            "_________________________________________________________________\n",
            "activation (Activation)      (None, 50)                0         \n",
            "_________________________________________________________________\n",
            "dense_1 (Dense)              (None, 32)                1632      \n",
            "_________________________________________________________________\n",
            "activation_1 (Activation)    (None, 32)                0         \n",
            "_________________________________________________________________\n",
            "dropout (Dropout)            (None, 32)                0         \n",
            "_________________________________________________________________\n",
            "dense_2 (Dense)              (None, 32)                1056      \n",
            "_________________________________________________________________\n",
            "activation_2 (Activation)    (None, 32)                0         \n",
            "_________________________________________________________________\n",
            "dense_3 (Dense)              (None, 10)                330       \n",
            "_________________________________________________________________\n",
            "activation_3 (Activation)    (None, 10)                0         \n",
            "=================================================================\n",
            "Total params: 156,668\n",
            "Trainable params: 156,668\n",
            "Non-trainable params: 0\n",
            "_________________________________________________________________\n"
          ],
          "name": "stdout"
        }
      ]
    },
    {
      "cell_type": "markdown",
      "metadata": {
        "id": "Pgite4yeeo_f"
      },
      "source": [
        "## 5. Model Compilation"
      ]
    },
    {
      "cell_type": "markdown",
      "metadata": {
        "id": "o5AGzVvPevDm"
      },
      "source": [
        "### a. Model compiled with \"categorical_crossentropy\" as loss function.\n",
        "### b. The 'Adam' optimizer is used for compilation with learning rate as 0.01. We are using the Adam optimizer because it combines the benefit of AdaGrad and RMSProp. Adam is also an adaptive gradient descent algorithm, such that it maintains a learning rate per-parameter. The higher learning rates have tendency to overshoot and miss the minima whereas too small learning rate takes too many steps to reach the minima.\n",
        "### c. Accuracy is used as the metric for evaluation."
      ]
    },
    {
      "cell_type": "code",
      "metadata": {
        "id": "zmeD2W8f541R"
      },
      "source": [
        "opt = keras.optimizers.Adam(learning_rate=0.01)\n",
        "model.compile(optimizer = opt, loss = \"categorical_crossentropy\", metrics = [\"accuracy\"])"
      ],
      "execution_count": null,
      "outputs": []
    },
    {
      "cell_type": "markdown",
      "metadata": {
        "id": "YNCNK0d2gHf7"
      },
      "source": [
        "## 6. Model Training"
      ]
    },
    {
      "cell_type": "markdown",
      "metadata": {
        "id": "efpPxuyUgN63"
      },
      "source": [
        "### a. Model is trained with 50 epochs and batch_size = 1000. The train and validation accuracies are also printed along with execution time for each epoch."
      ]
    },
    {
      "cell_type": "code",
      "metadata": {
        "id": "2N3Hy3cwmeev",
        "outputId": "93fcebdf-b4d3-4288-a8c5-9c834f44c76b",
        "colab": {
          "base_uri": "https://localhost:8080/",
          "height": 1000
        }
      },
      "source": [
        "start_time = time.time()\n",
        "\n",
        "history = model.fit(x_train, y_train, epochs = 50, batch_size = 300, validation_split = 0.1)\n",
        "\n",
        "print(f'Total training time is {time.time() - start_time} seconds')"
      ],
      "execution_count": null,
      "outputs": [
        {
          "output_type": "stream",
          "text": [
            "Epoch 1/50\n",
            "150/150 [==============================] - 1s 5ms/step - loss: 2.2149 - accuracy: 0.2140 - val_loss: 1.9420 - val_accuracy: 0.2982\n",
            "Epoch 2/50\n",
            "150/150 [==============================] - 1s 4ms/step - loss: 1.9144 - accuracy: 0.3046 - val_loss: 1.8848 - val_accuracy: 0.3278\n",
            "Epoch 3/50\n",
            "150/150 [==============================] - 1s 4ms/step - loss: 1.8673 - accuracy: 0.3257 - val_loss: 1.8408 - val_accuracy: 0.3308\n",
            "Epoch 4/50\n",
            "150/150 [==============================] - 1s 4ms/step - loss: 1.8283 - accuracy: 0.3416 - val_loss: 1.8088 - val_accuracy: 0.3402\n",
            "Epoch 5/50\n",
            "150/150 [==============================] - 1s 4ms/step - loss: 1.8026 - accuracy: 0.3505 - val_loss: 1.7707 - val_accuracy: 0.3716\n",
            "Epoch 6/50\n",
            "150/150 [==============================] - 1s 4ms/step - loss: 1.7836 - accuracy: 0.3592 - val_loss: 1.7587 - val_accuracy: 0.3684\n",
            "Epoch 7/50\n",
            "150/150 [==============================] - 1s 4ms/step - loss: 1.7640 - accuracy: 0.3651 - val_loss: 1.7497 - val_accuracy: 0.3642\n",
            "Epoch 8/50\n",
            "150/150 [==============================] - 1s 4ms/step - loss: 1.7496 - accuracy: 0.3748 - val_loss: 1.7180 - val_accuracy: 0.3878\n",
            "Epoch 9/50\n",
            "150/150 [==============================] - 1s 4ms/step - loss: 1.7408 - accuracy: 0.3720 - val_loss: 1.7069 - val_accuracy: 0.3926\n",
            "Epoch 10/50\n",
            "150/150 [==============================] - 1s 4ms/step - loss: 1.7170 - accuracy: 0.3850 - val_loss: 1.7340 - val_accuracy: 0.3748\n",
            "Epoch 11/50\n",
            "150/150 [==============================] - 1s 4ms/step - loss: 1.7137 - accuracy: 0.3840 - val_loss: 1.7641 - val_accuracy: 0.3594\n",
            "Epoch 12/50\n",
            "150/150 [==============================] - 1s 4ms/step - loss: 1.7243 - accuracy: 0.3812 - val_loss: 1.7035 - val_accuracy: 0.3924\n",
            "Epoch 13/50\n",
            "150/150 [==============================] - 1s 4ms/step - loss: 1.6897 - accuracy: 0.3942 - val_loss: 1.6817 - val_accuracy: 0.4004\n",
            "Epoch 14/50\n",
            "150/150 [==============================] - 1s 4ms/step - loss: 1.6938 - accuracy: 0.3917 - val_loss: 1.6956 - val_accuracy: 0.4000\n",
            "Epoch 15/50\n",
            "150/150 [==============================] - 1s 4ms/step - loss: 1.6844 - accuracy: 0.3960 - val_loss: 1.6860 - val_accuracy: 0.3974\n",
            "Epoch 16/50\n",
            "150/150 [==============================] - 1s 4ms/step - loss: 1.6959 - accuracy: 0.3909 - val_loss: 1.6696 - val_accuracy: 0.4084\n",
            "Epoch 17/50\n",
            "150/150 [==============================] - 1s 4ms/step - loss: 1.6802 - accuracy: 0.3980 - val_loss: 1.6777 - val_accuracy: 0.3986\n",
            "Epoch 18/50\n",
            "150/150 [==============================] - 1s 4ms/step - loss: 1.6799 - accuracy: 0.3981 - val_loss: 1.6823 - val_accuracy: 0.4048\n",
            "Epoch 19/50\n",
            "150/150 [==============================] - 1s 4ms/step - loss: 1.6770 - accuracy: 0.4004 - val_loss: 1.6793 - val_accuracy: 0.4044\n",
            "Epoch 20/50\n",
            "150/150 [==============================] - 1s 4ms/step - loss: 1.6613 - accuracy: 0.4061 - val_loss: 1.6647 - val_accuracy: 0.4030\n",
            "Epoch 21/50\n",
            "150/150 [==============================] - 1s 4ms/step - loss: 1.6794 - accuracy: 0.4000 - val_loss: 1.6841 - val_accuracy: 0.4020\n",
            "Epoch 22/50\n",
            "150/150 [==============================] - 1s 4ms/step - loss: 1.6578 - accuracy: 0.4058 - val_loss: 1.6916 - val_accuracy: 0.3906\n",
            "Epoch 23/50\n",
            "150/150 [==============================] - 1s 4ms/step - loss: 1.6627 - accuracy: 0.4054 - val_loss: 1.6741 - val_accuracy: 0.3994\n",
            "Epoch 24/50\n",
            "150/150 [==============================] - 1s 4ms/step - loss: 1.6485 - accuracy: 0.4088 - val_loss: 1.7019 - val_accuracy: 0.3940\n",
            "Epoch 25/50\n",
            "150/150 [==============================] - 1s 4ms/step - loss: 1.6673 - accuracy: 0.4016 - val_loss: 1.6721 - val_accuracy: 0.4016\n",
            "Epoch 26/50\n",
            "150/150 [==============================] - 1s 4ms/step - loss: 1.6508 - accuracy: 0.4056 - val_loss: 1.6754 - val_accuracy: 0.3954\n",
            "Epoch 27/50\n",
            "150/150 [==============================] - 1s 4ms/step - loss: 1.6594 - accuracy: 0.4007 - val_loss: 1.6370 - val_accuracy: 0.4098\n",
            "Epoch 28/50\n",
            "150/150 [==============================] - 1s 4ms/step - loss: 1.6482 - accuracy: 0.4096 - val_loss: 1.6552 - val_accuracy: 0.4142\n",
            "Epoch 29/50\n",
            "150/150 [==============================] - 1s 4ms/step - loss: 1.6460 - accuracy: 0.4116 - val_loss: 1.6672 - val_accuracy: 0.4030\n",
            "Epoch 30/50\n",
            "150/150 [==============================] - 1s 4ms/step - loss: 1.6507 - accuracy: 0.4093 - val_loss: 1.6471 - val_accuracy: 0.4146\n",
            "Epoch 31/50\n",
            "150/150 [==============================] - 1s 4ms/step - loss: 1.6411 - accuracy: 0.4101 - val_loss: 1.6621 - val_accuracy: 0.3982\n",
            "Epoch 32/50\n",
            "150/150 [==============================] - 1s 4ms/step - loss: 1.6388 - accuracy: 0.4121 - val_loss: 1.6618 - val_accuracy: 0.4002\n",
            "Epoch 33/50\n",
            "150/150 [==============================] - 1s 4ms/step - loss: 1.6336 - accuracy: 0.4109 - val_loss: 1.6679 - val_accuracy: 0.4090\n",
            "Epoch 34/50\n",
            "150/150 [==============================] - 1s 4ms/step - loss: 1.6342 - accuracy: 0.4148 - val_loss: 1.6615 - val_accuracy: 0.4082\n",
            "Epoch 35/50\n",
            "150/150 [==============================] - 1s 4ms/step - loss: 1.6377 - accuracy: 0.4097 - val_loss: 1.6743 - val_accuracy: 0.4004\n",
            "Epoch 36/50\n",
            "150/150 [==============================] - 1s 4ms/step - loss: 1.6390 - accuracy: 0.4101 - val_loss: 1.6803 - val_accuracy: 0.3932\n",
            "Epoch 37/50\n",
            "150/150 [==============================] - 1s 4ms/step - loss: 1.6303 - accuracy: 0.4160 - val_loss: 1.6657 - val_accuracy: 0.4058\n",
            "Epoch 38/50\n",
            "150/150 [==============================] - 1s 4ms/step - loss: 1.6364 - accuracy: 0.4162 - val_loss: 1.6940 - val_accuracy: 0.4020\n",
            "Epoch 39/50\n",
            "150/150 [==============================] - 1s 4ms/step - loss: 1.6356 - accuracy: 0.4138 - val_loss: 1.6939 - val_accuracy: 0.4024\n",
            "Epoch 40/50\n",
            "150/150 [==============================] - 1s 4ms/step - loss: 1.6323 - accuracy: 0.4152 - val_loss: 1.7220 - val_accuracy: 0.3748\n",
            "Epoch 41/50\n",
            "150/150 [==============================] - 1s 4ms/step - loss: 1.6295 - accuracy: 0.4160 - val_loss: 1.6443 - val_accuracy: 0.4142\n",
            "Epoch 42/50\n",
            "150/150 [==============================] - 1s 4ms/step - loss: 1.6304 - accuracy: 0.4159 - val_loss: 1.6564 - val_accuracy: 0.4022\n",
            "Epoch 43/50\n",
            "150/150 [==============================] - 1s 4ms/step - loss: 1.6327 - accuracy: 0.4128 - val_loss: 1.6688 - val_accuracy: 0.4070\n",
            "Epoch 44/50\n",
            "150/150 [==============================] - 1s 4ms/step - loss: 1.6264 - accuracy: 0.4149 - val_loss: 1.6798 - val_accuracy: 0.4004\n",
            "Epoch 45/50\n",
            "150/150 [==============================] - 1s 4ms/step - loss: 1.6221 - accuracy: 0.4170 - val_loss: 1.6393 - val_accuracy: 0.4148\n",
            "Epoch 46/50\n",
            "150/150 [==============================] - 1s 4ms/step - loss: 1.6310 - accuracy: 0.4160 - val_loss: 1.6716 - val_accuracy: 0.4024\n",
            "Epoch 47/50\n",
            "150/150 [==============================] - 1s 4ms/step - loss: 1.6189 - accuracy: 0.4191 - val_loss: 1.6381 - val_accuracy: 0.4148\n",
            "Epoch 48/50\n",
            "150/150 [==============================] - 1s 4ms/step - loss: 1.6250 - accuracy: 0.4159 - val_loss: 1.6427 - val_accuracy: 0.4134\n",
            "Epoch 49/50\n",
            "150/150 [==============================] - 1s 4ms/step - loss: 1.6195 - accuracy: 0.4182 - val_loss: 1.6887 - val_accuracy: 0.4046\n",
            "Epoch 50/50\n",
            "150/150 [==============================] - 1s 4ms/step - loss: 1.6195 - accuracy: 0.4189 - val_loss: 1.6768 - val_accuracy: 0.4056\n",
            "Total training time is 31.522732257843018 seconds\n"
          ],
          "name": "stdout"
        }
      ]
    },
    {
      "cell_type": "markdown",
      "metadata": {
        "id": "24GYP0MChKM2"
      },
      "source": [
        "### b. Plotted the loss and accuracy history\n",
        "* the total training time is printed in above cell"
      ]
    },
    {
      "cell_type": "code",
      "metadata": {
        "id": "zj9yA9cUTVHT",
        "outputId": "f95ee96b-e70f-4d4f-d41a-85d6951a95d6",
        "colab": {
          "base_uri": "https://localhost:8080/",
          "height": 573
        }
      },
      "source": [
        "# plotting training and validation loss\n",
        "\n",
        "loss = history.history['loss']\n",
        "val_loss = history.history['val_loss']\n",
        "epochs = range(1, len(loss) + 1)\n",
        "plt.plot(epochs, loss, color='red', label='Training loss')\n",
        "plt.plot(epochs, val_loss, color='green', label='Validation loss')\n",
        "plt.title('Training and Validation loss')\n",
        "plt.xlabel('Epochs')\n",
        "plt.ylabel('Loss')\n",
        "plt.legend()\n",
        "plt.show()\n",
        "\n",
        "# plotting training and validation accuracy\n",
        "\n",
        "acc = history.history['accuracy']\n",
        "val_acc = history.history['val_accuracy']\n",
        "plt.plot(epochs, acc, color='red', label='Training acc')\n",
        "plt.plot(epochs, val_acc, color='green', label='Validation acc')\n",
        "plt.title('Training and Validation accuracy')\n",
        "plt.xlabel('Epochs')\n",
        "plt.ylabel('Accuracy')\n",
        "plt.legend()\n",
        "plt.show()"
      ],
      "execution_count": null,
      "outputs": [
        {
          "output_type": "display_data",
          "data": {
            "image/png": "[encoded data removed]",
            "text/plain": [
              "<Figure size 432x288 with 1 Axes>"
            ]
          },
          "metadata": {
            "tags": [],
            "needs_background": "light"
          }
        },
        {
          "output_type": "display_data",
          "data": {
            "image/png": "[encoded data removed]",
            "text/plain": [
              "<Figure size 432x288 with 1 Axes>"
            ]
          },
          "metadata": {
            "tags": [],
            "needs_background": "light"
          }
        }
      ]
    },
    {
      "cell_type": "markdown",
      "metadata": {
        "id": "iK-kcBZchW-n"
      },
      "source": [
        "## 7. Model Evaluation"
      ]
    },
    {
      "cell_type": "markdown",
      "metadata": {
        "id": "DTOdsRgJhb3r"
      },
      "source": [
        "### a. Final training loss and accuracy for Train, Validation, and Test"
      ]
    },
    {
      "cell_type": "code",
      "metadata": {
        "id": "WmaGiLFQs_Ho",
        "outputId": "fc8ccadc-f29d-4420-87bc-b5caf0bacca4",
        "colab": {
          "base_uri": "https://localhost:8080/",
          "height": 51
        }
      },
      "source": [
        "# Printing the total training loss and accuracy\n",
        "\n",
        "print('Final training loss \\t', history.history['loss'][-1])\n",
        "print('Final training accuracy ', history.history['accuracy'][-1])"
      ],
      "execution_count": null,
      "outputs": [
        {
          "output_type": "stream",
          "text": [
            "Final training loss \t 1.619517207145691\n",
            "Final training accuracy  0.41886666417121887\n"
          ],
          "name": "stdout"
        }
      ]
    },
    {
      "cell_type": "code",
      "metadata": {
        "id": "oUZRso5fQBpz",
        "outputId": "18cf390d-54f4-47f2-fb40-4b472d09110b",
        "colab": {
          "base_uri": "https://localhost:8080/",
          "height": 51
        }
      },
      "source": [
        "# Printing the total validation loss and accuracy\n",
        "\n",
        "print('Final Validation loss \\t', history.history['val_loss'][-1])\n",
        "print('Final Validation accuracy ', history.history['val_accuracy'][-1])"
      ],
      "execution_count": null,
      "outputs": [
        {
          "output_type": "stream",
          "text": [
            "Final Validation loss \t 1.6767911911010742\n",
            "Final Validation accuracy  0.40560001134872437\n"
          ],
          "name": "stdout"
        }
      ]
    },
    {
      "cell_type": "code",
      "metadata": {
        "id": "SkxwPlKot_ii",
        "outputId": "16f3ee4f-d0e8-4975-f868-b91c297b0746",
        "colab": {
          "base_uri": "https://localhost:8080/",
          "height": 34
        }
      },
      "source": [
        "# Printing the test loss and accuracy\n",
        "\n",
        "testLoss, testAccuracy = model.evaluate( x_test, y_test)"
      ],
      "execution_count": null,
      "outputs": [
        {
          "output_type": "stream",
          "text": [
            "313/313 [==============================] - 1s 2ms/step - loss: 1.6650 - accuracy: 0.4029\n"
          ],
          "name": "stdout"
        }
      ]
    },
    {
      "cell_type": "markdown",
      "metadata": {
        "id": "q7w-F6NIh0hg"
      },
      "source": [
        "### b. Classification Report and Confusion Matrix\n",
        "Based on F1-Scores, class 8 is the best performing while class 3 is the worst performing class. From the loss and accuracy graphs we can observe that the model is performing equally well with training and validation data. The classification report shows that the overall performance of the model is decent. We have observed that accuracy improves drastically by using CNN model."
      ]
    },
    {
      "cell_type": "code",
      "metadata": {
        "id": "Yyfu490tuRH8",
        "outputId": "c1f5b6aa-7b9c-46a5-bb22-92eaaccb4705",
        "colab": {
          "base_uri": "https://localhost:8080/",
          "height": 306
        }
      },
      "source": [
        "y_pred = model.predict_classes(x_test)\n",
        "y_true = np.argmax(y_test, axis=1)\n",
        "print(classification_report(y_pred, y_true))"
      ],
      "execution_count": null,
      "outputs": [
        {
          "output_type": "stream",
          "text": [
            "              precision    recall  f1-score   support\n",
            "\n",
            "           0       0.41      0.48      0.44       856\n",
            "           1       0.42      0.62      0.50       685\n",
            "           2       0.27      0.27      0.27      1005\n",
            "           3       0.14      0.29      0.19       489\n",
            "           4       0.40      0.32      0.35      1247\n",
            "           5       0.23      0.42      0.30       547\n",
            "           6       0.53      0.38      0.44      1380\n",
            "           7       0.58      0.36      0.45      1592\n",
            "           8       0.64      0.47      0.54      1367\n",
            "           9       0.41      0.50      0.45       832\n",
            "\n",
            "    accuracy                           0.40     10000\n",
            "   macro avg       0.40      0.41      0.39     10000\n",
            "weighted avg       0.45      0.40      0.41     10000\n",
            "\n"
          ],
          "name": "stdout"
        }
      ]
    },
    {
      "cell_type": "code",
      "metadata": {
        "id": "KxtvXyhPP39q",
        "outputId": "114e2500-9953-4394-acc0-0208562d2341",
        "colab": {
          "base_uri": "https://localhost:8080/",
          "height": 187
        }
      },
      "source": [
        "print(confusion_matrix(y_pred, y_true))"
      ],
      "execution_count": null,
      "outputs": [
        {
          "output_type": "stream",
          "text": [
            "[[412  45  83  15  40  21   3  42 117  78]\n",
            " [ 18 422  22  17   6  10   9   8  37 136]\n",
            " [ 94  36 267 120 149 143  86  69  29  12]\n",
            " [ 24  17  43 142  27  83  80  32  17  24]\n",
            " [ 29  15 219 110 397 119 184 131  26  17]\n",
            " [ 12  28  36 116  14 231  20  48  25  17]\n",
            " [ 31  38 140 235 153 156 527  36  29  35]\n",
            " [121  53 146 150 171 163  66 578  29 115]\n",
            " [226 146  33  51  32  54  12  20 640 153]\n",
            " [ 33 200  11  44  11  20  13  36  51 413]]\n"
          ],
          "name": "stdout"
        }
      ]
    },
    {
      "cell_type": "markdown",
      "metadata": {
        "id": "myLExRHdjc2X"
      },
      "source": [
        "# Hyperparameter Tuning\n",
        "Two new models are created with the new hyperparameters as per the instructions. "
      ]
    },
    {
      "cell_type": "markdown",
      "metadata": {
        "id": "TFyib0D_jhYY"
      },
      "source": [
        "## 1. Dropout: The dropout layer is moved after layer 3 with new dropout value of 0.2."
      ]
    },
    {
      "cell_type": "markdown",
      "metadata": {
        "id": "tEzOi45olktX"
      },
      "source": [
        "### Model Building"
      ]
    },
    {
      "cell_type": "code",
      "metadata": {
        "id": "u7SqTbL45aaY",
        "outputId": "c403def6-12d1-47d3-9e5a-70987aaad348",
        "colab": {
          "base_uri": "https://localhost:8080/",
          "height": 459
        }
      },
      "source": [
        "Model_upd_dropout = tf.keras.models.Sequential([\n",
        "    tf.keras.layers.Dense(50, input_shape=x_train.shape[1:]),\n",
        "    tf.keras.layers.Activation('relu'),\n",
        "    \n",
        "\n",
        "    tf.keras.layers.Dense(32,kernel_regularizer = regularizers.l2(l2=0.001)),\n",
        "    tf.keras.layers.Activation('relu'),\n",
        "\n",
        "    tf.keras.layers.Dense(32,kernel_regularizer = regularizers.l2(l2=0.001)),\n",
        "    tf.keras.layers.Activation('relu'),\n",
        "    tf.keras.layers.Dropout(0.2),\n",
        "\n",
        "    tf.keras.layers.Dense(10),\n",
        "    tf.keras.layers.Activation('softmax')\n",
        "  ])\n",
        "\n",
        "Model_upd_dropout.summary()"
      ],
      "execution_count": null,
      "outputs": [
        {
          "output_type": "stream",
          "text": [
            "Model: \"sequential_1\"\n",
            "_________________________________________________________________\n",
            "Layer (type)                 Output Shape              Param #   \n",
            "=================================================================\n",
            "dense_4 (Dense)              (None, 50)                153650    \n",
            "_________________________________________________________________\n",
            "activation_4 (Activation)    (None, 50)                0         \n",
            "_________________________________________________________________\n",
            "dense_5 (Dense)              (None, 32)                1632      \n",
            "_________________________________________________________________\n",
            "activation_5 (Activation)    (None, 32)                0         \n",
            "_________________________________________________________________\n",
            "dense_6 (Dense)              (None, 32)                1056      \n",
            "_________________________________________________________________\n",
            "activation_6 (Activation)    (None, 32)                0         \n",
            "_________________________________________________________________\n",
            "dropout_1 (Dropout)          (None, 32)                0         \n",
            "_________________________________________________________________\n",
            "dense_7 (Dense)              (None, 10)                330       \n",
            "_________________________________________________________________\n",
            "activation_7 (Activation)    (None, 10)                0         \n",
            "=================================================================\n",
            "Total params: 156,668\n",
            "Trainable params: 156,668\n",
            "Non-trainable params: 0\n",
            "_________________________________________________________________\n"
          ],
          "name": "stdout"
        }
      ]
    },
    {
      "cell_type": "markdown",
      "metadata": {
        "id": "Fw2pnZuMlOqM"
      },
      "source": [
        "### Model Compilation"
      ]
    },
    {
      "cell_type": "code",
      "metadata": {
        "id": "yROPAHc-mL4C"
      },
      "source": [
        "opt = keras.optimizers.Adam(learning_rate=0.01)\n",
        "\n",
        "Model_upd_dropout.compile(optimizer = opt, loss = \"categorical_crossentropy\", metrics = [\"accuracy\"])"
      ],
      "execution_count": null,
      "outputs": []
    },
    {
      "cell_type": "markdown",
      "metadata": {
        "id": "PQr7Xn8glY7l"
      },
      "source": [
        "### Model Training"
      ]
    },
    {
      "cell_type": "code",
      "metadata": {
        "id": "i9X9TKknmMpQ",
        "outputId": "c247b7ff-6bb3-4c7d-a68e-b74d0dcd6d60",
        "colab": {
          "base_uri": "https://localhost:8080/",
          "height": 1000
        }
      },
      "source": [
        "start_time = time.time()\n",
        "\n",
        "history = Model_upd_dropout.fit(x_train, y_train, epochs = 50, batch_size = 300, validation_split = 0.1)\n",
        "\n",
        "print(f'Total training time is {time.time() - start_time} seconds')"
      ],
      "execution_count": null,
      "outputs": [
        {
          "output_type": "stream",
          "text": [
            "Epoch 1/50\n",
            "150/150 [==============================] - 1s 5ms/step - loss: 2.2264 - accuracy: 0.1620 - val_loss: 2.0736 - val_accuracy: 0.2078\n",
            "Epoch 2/50\n",
            "150/150 [==============================] - 1s 4ms/step - loss: 2.0560 - accuracy: 0.2158 - val_loss: 2.0264 - val_accuracy: 0.2226\n",
            "Epoch 3/50\n",
            "150/150 [==============================] - 1s 4ms/step - loss: 1.9828 - accuracy: 0.2539 - val_loss: 1.9182 - val_accuracy: 0.2886\n",
            "Epoch 4/50\n",
            "150/150 [==============================] - 1s 4ms/step - loss: 1.9159 - accuracy: 0.2827 - val_loss: 1.8829 - val_accuracy: 0.2990\n",
            "Epoch 5/50\n",
            "150/150 [==============================] - 1s 4ms/step - loss: 1.8745 - accuracy: 0.3043 - val_loss: 1.8450 - val_accuracy: 0.3210\n",
            "Epoch 6/50\n",
            "150/150 [==============================] - 1s 4ms/step - loss: 1.8521 - accuracy: 0.3208 - val_loss: 1.8305 - val_accuracy: 0.3292\n",
            "Epoch 7/50\n",
            "150/150 [==============================] - 1s 4ms/step - loss: 1.8268 - accuracy: 0.3327 - val_loss: 1.7932 - val_accuracy: 0.3436\n",
            "Epoch 8/50\n",
            "150/150 [==============================] - 1s 4ms/step - loss: 1.7989 - accuracy: 0.3439 - val_loss: 1.8315 - val_accuracy: 0.3130\n",
            "Epoch 9/50\n",
            "150/150 [==============================] - 1s 4ms/step - loss: 1.7820 - accuracy: 0.3498 - val_loss: 1.7815 - val_accuracy: 0.3520\n",
            "Epoch 10/50\n",
            "150/150 [==============================] - 1s 4ms/step - loss: 1.7782 - accuracy: 0.3521 - val_loss: 1.7869 - val_accuracy: 0.3498\n",
            "Epoch 11/50\n",
            "150/150 [==============================] - 1s 4ms/step - loss: 1.7668 - accuracy: 0.3549 - val_loss: 1.7518 - val_accuracy: 0.3546\n",
            "Epoch 12/50\n",
            "150/150 [==============================] - 1s 4ms/step - loss: 1.7513 - accuracy: 0.3626 - val_loss: 1.7433 - val_accuracy: 0.3590\n",
            "Epoch 13/50\n",
            "150/150 [==============================] - 1s 4ms/step - loss: 1.7369 - accuracy: 0.3694 - val_loss: 1.7122 - val_accuracy: 0.3818\n",
            "Epoch 14/50\n",
            "150/150 [==============================] - 1s 4ms/step - loss: 1.7290 - accuracy: 0.3731 - val_loss: 1.7300 - val_accuracy: 0.3686\n",
            "Epoch 15/50\n",
            "150/150 [==============================] - 1s 4ms/step - loss: 1.7304 - accuracy: 0.3749 - val_loss: 1.6982 - val_accuracy: 0.3778\n",
            "Epoch 16/50\n",
            "150/150 [==============================] - 1s 4ms/step - loss: 1.7193 - accuracy: 0.3772 - val_loss: 1.6902 - val_accuracy: 0.3904\n",
            "Epoch 17/50\n",
            "150/150 [==============================] - 1s 4ms/step - loss: 1.7216 - accuracy: 0.3766 - val_loss: 1.7228 - val_accuracy: 0.3806\n",
            "Epoch 18/50\n",
            "150/150 [==============================] - 1s 4ms/step - loss: 1.7137 - accuracy: 0.3849 - val_loss: 1.7358 - val_accuracy: 0.3678\n",
            "Epoch 19/50\n",
            "150/150 [==============================] - 1s 4ms/step - loss: 1.7028 - accuracy: 0.3857 - val_loss: 1.6929 - val_accuracy: 0.3888\n",
            "Epoch 20/50\n",
            "150/150 [==============================] - 1s 4ms/step - loss: 1.6926 - accuracy: 0.3904 - val_loss: 1.6971 - val_accuracy: 0.3952\n",
            "Epoch 21/50\n",
            "150/150 [==============================] - 1s 4ms/step - loss: 1.6963 - accuracy: 0.3901 - val_loss: 1.6783 - val_accuracy: 0.3908\n",
            "Epoch 22/50\n",
            "150/150 [==============================] - 1s 4ms/step - loss: 1.6852 - accuracy: 0.3891 - val_loss: 1.7005 - val_accuracy: 0.3828\n",
            "Epoch 23/50\n",
            "150/150 [==============================] - 1s 4ms/step - loss: 1.6983 - accuracy: 0.3910 - val_loss: 1.6892 - val_accuracy: 0.3910\n",
            "Epoch 24/50\n",
            "150/150 [==============================] - 1s 4ms/step - loss: 1.6708 - accuracy: 0.3979 - val_loss: 1.7111 - val_accuracy: 0.4016\n",
            "Epoch 25/50\n",
            "150/150 [==============================] - 1s 4ms/step - loss: 1.6795 - accuracy: 0.3944 - val_loss: 1.7094 - val_accuracy: 0.3786\n",
            "Epoch 26/50\n",
            "150/150 [==============================] - 1s 4ms/step - loss: 1.6871 - accuracy: 0.3955 - val_loss: 1.6704 - val_accuracy: 0.3996\n",
            "Epoch 27/50\n",
            "150/150 [==============================] - 1s 4ms/step - loss: 1.6764 - accuracy: 0.3966 - val_loss: 1.6898 - val_accuracy: 0.4010\n",
            "Epoch 28/50\n",
            "150/150 [==============================] - 1s 4ms/step - loss: 1.6776 - accuracy: 0.3984 - val_loss: 1.6755 - val_accuracy: 0.3986\n",
            "Epoch 29/50\n",
            "150/150 [==============================] - 1s 4ms/step - loss: 1.6693 - accuracy: 0.3990 - val_loss: 1.6753 - val_accuracy: 0.4010\n",
            "Epoch 30/50\n",
            "150/150 [==============================] - 1s 4ms/step - loss: 1.6832 - accuracy: 0.3974 - val_loss: 1.6813 - val_accuracy: 0.3892\n",
            "Epoch 31/50\n",
            "150/150 [==============================] - 1s 4ms/step - loss: 1.6729 - accuracy: 0.3996 - val_loss: 1.6750 - val_accuracy: 0.4026\n",
            "Epoch 32/50\n",
            "150/150 [==============================] - 1s 4ms/step - loss: 1.6665 - accuracy: 0.4026 - val_loss: 1.6658 - val_accuracy: 0.4092\n",
            "Epoch 33/50\n",
            "150/150 [==============================] - 1s 4ms/step - loss: 1.6661 - accuracy: 0.4019 - val_loss: 1.6817 - val_accuracy: 0.3960\n",
            "Epoch 34/50\n",
            "150/150 [==============================] - 1s 4ms/step - loss: 1.6697 - accuracy: 0.3980 - val_loss: 1.6999 - val_accuracy: 0.3906\n",
            "Epoch 35/50\n",
            "150/150 [==============================] - 1s 4ms/step - loss: 1.6575 - accuracy: 0.4039 - val_loss: 1.6878 - val_accuracy: 0.3984\n",
            "Epoch 36/50\n",
            "150/150 [==============================] - 1s 4ms/step - loss: 1.6578 - accuracy: 0.4044 - val_loss: 1.6727 - val_accuracy: 0.3972\n",
            "Epoch 37/50\n",
            "150/150 [==============================] - 1s 4ms/step - loss: 1.6647 - accuracy: 0.4023 - val_loss: 1.6891 - val_accuracy: 0.3960\n",
            "Epoch 38/50\n",
            "150/150 [==============================] - 1s 4ms/step - loss: 1.6512 - accuracy: 0.4094 - val_loss: 1.6682 - val_accuracy: 0.4000\n",
            "Epoch 39/50\n",
            "150/150 [==============================] - 1s 4ms/step - loss: 1.6580 - accuracy: 0.4022 - val_loss: 1.6536 - val_accuracy: 0.4068\n",
            "Epoch 40/50\n",
            "150/150 [==============================] - 1s 4ms/step - loss: 1.6555 - accuracy: 0.4075 - val_loss: 1.6585 - val_accuracy: 0.4106\n",
            "Epoch 41/50\n",
            "150/150 [==============================] - 1s 4ms/step - loss: 1.6599 - accuracy: 0.4047 - val_loss: 1.6929 - val_accuracy: 0.3916\n",
            "Epoch 42/50\n",
            "150/150 [==============================] - 1s 4ms/step - loss: 1.6537 - accuracy: 0.4075 - val_loss: 1.6739 - val_accuracy: 0.3956\n",
            "Epoch 43/50\n",
            "150/150 [==============================] - 1s 4ms/step - loss: 1.6556 - accuracy: 0.4098 - val_loss: 1.6650 - val_accuracy: 0.4116\n",
            "Epoch 44/50\n",
            "150/150 [==============================] - 1s 4ms/step - loss: 1.6537 - accuracy: 0.4081 - val_loss: 1.6575 - val_accuracy: 0.4124\n",
            "Epoch 45/50\n",
            "150/150 [==============================] - 1s 4ms/step - loss: 1.6458 - accuracy: 0.4118 - val_loss: 1.6784 - val_accuracy: 0.3940\n",
            "Epoch 46/50\n",
            "150/150 [==============================] - 1s 4ms/step - loss: 1.6508 - accuracy: 0.4063 - val_loss: 1.6580 - val_accuracy: 0.4086\n",
            "Epoch 47/50\n",
            "150/150 [==============================] - 1s 4ms/step - loss: 1.6547 - accuracy: 0.4054 - val_loss: 1.6907 - val_accuracy: 0.3846\n",
            "Epoch 48/50\n",
            "150/150 [==============================] - 1s 4ms/step - loss: 1.6516 - accuracy: 0.4067 - val_loss: 1.6632 - val_accuracy: 0.4070\n",
            "Epoch 49/50\n",
            "150/150 [==============================] - 1s 4ms/step - loss: 1.6485 - accuracy: 0.4125 - val_loss: 1.6923 - val_accuracy: 0.3930\n",
            "Epoch 50/50\n",
            "150/150 [==============================] - 1s 4ms/step - loss: 1.6531 - accuracy: 0.4038 - val_loss: 1.6704 - val_accuracy: 0.4018\n",
            "Total training time is 31.046109199523926 seconds\n"
          ],
          "name": "stdout"
        }
      ]
    },
    {
      "cell_type": "code",
      "metadata": {
        "id": "CSgE5SXPK-Gu",
        "outputId": "a383fa57-1c4e-4a9e-f819-8eac6610f4a8",
        "colab": {
          "base_uri": "https://localhost:8080/",
          "height": 573
        }
      },
      "source": [
        "# plotting training and validation loss\n",
        "\n",
        "loss = history.history['loss']\n",
        "val_loss = history.history['val_loss']\n",
        "epochs = range(1, len(loss) + 1)\n",
        "plt.plot(epochs, loss, color='red', label='Training loss')\n",
        "plt.plot(epochs, val_loss, color='green', label='Validation loss')\n",
        "plt.title('Training and Validation loss')\n",
        "plt.xlabel('Epochs')\n",
        "plt.ylabel('Loss')\n",
        "plt.legend()\n",
        "plt.show()\n",
        "\n",
        "# plotting training and validation accuracy\n",
        "\n",
        "acc = history.history['accuracy']\n",
        "val_acc = history.history['val_accuracy']\n",
        "plt.plot(epochs, acc, color='red', label='Training acc')\n",
        "plt.plot(epochs, val_acc, color='green', label='Validation acc')\n",
        "plt.title('Training and Validation accuracy')\n",
        "plt.xlabel('Epochs')\n",
        "plt.ylabel('Accuracy')\n",
        "plt.legend()\n",
        "plt.show()"
      ],
      "execution_count": null,
      "outputs": [
        {
          "output_type": "display_data",
          "data": {
            "image/png": "[encoded data removed]",
            "text/plain": [
              "<Figure size 432x288 with 1 Axes>"
            ]
          },
          "metadata": {
            "tags": [],
            "needs_background": "light"
          }
        },
        {
          "output_type": "display_data",
          "data": {
            "image/png": "[encoded data removed]",
            "text/plain": [
              "<Figure size 432x288 with 1 Axes>"
            ]
          },
          "metadata": {
            "tags": [],
            "needs_background": "light"
          }
        }
      ]
    },
    {
      "cell_type": "markdown",
      "metadata": {
        "id": "fuATHMW6ld7h"
      },
      "source": [
        "### Model Evaluation"
      ]
    },
    {
      "cell_type": "code",
      "metadata": {
        "id": "-831UxLtLPZy",
        "outputId": "e78d0323-3b2a-4a36-fd23-af1c70a14de3",
        "colab": {
          "base_uri": "https://localhost:8080/",
          "height": 51
        }
      },
      "source": [
        "# Printing the total training loss and accuracy\n",
        "\n",
        "print('Final training loss \\t', history.history['loss'][-1])\n",
        "print('Final training accuracy ', history.history['accuracy'][-1])"
      ],
      "execution_count": null,
      "outputs": [
        {
          "output_type": "stream",
          "text": [
            "Final training loss \t 1.6530829668045044\n",
            "Final training accuracy  0.4037555456161499\n"
          ],
          "name": "stdout"
        }
      ]
    },
    {
      "cell_type": "code",
      "metadata": {
        "id": "eOkPL82GLPZ2",
        "outputId": "5e4d238c-fa2a-4e23-94d9-cd51afbc77cc",
        "colab": {
          "base_uri": "https://localhost:8080/",
          "height": 51
        }
      },
      "source": [
        "# Printing the total validation loss and accuracy\n",
        "\n",
        "print('Final Validation loss \\t', history.history['val_loss'][-1])\n",
        "print('Final Validation accuracy ', history.history['val_accuracy'][-1])"
      ],
      "execution_count": null,
      "outputs": [
        {
          "output_type": "stream",
          "text": [
            "Final Validation loss \t 1.6704320907592773\n",
            "Final Validation accuracy  0.4018000066280365\n"
          ],
          "name": "stdout"
        }
      ]
    },
    {
      "cell_type": "code",
      "metadata": {
        "id": "8AC25LPmLPZ8",
        "outputId": "3ec9cc5a-cc54-4717-d712-1158685903b6",
        "colab": {
          "base_uri": "https://localhost:8080/",
          "height": 34
        }
      },
      "source": [
        "# Printing the test loss and accuracy\n",
        "\n",
        "testLoss, testAccuracy = Model_upd_dropout.evaluate( x_test, y_test)"
      ],
      "execution_count": null,
      "outputs": [
        {
          "output_type": "stream",
          "text": [
            "313/313 [==============================] - 1s 2ms/step - loss: 1.6423 - accuracy: 0.4125\n"
          ],
          "name": "stdout"
        }
      ]
    },
    {
      "cell_type": "code",
      "metadata": {
        "id": "7bz318nVcOa0",
        "outputId": "f1f6325b-9784-44b8-986d-0f98eaa461b3",
        "colab": {
          "base_uri": "https://localhost:8080/",
          "height": 306
        }
      },
      "source": [
        "y_pred = Model_upd_dropout.predict_classes(x_test)\n",
        "y_true = np.argmax(y_test, axis=1)\n",
        "print(classification_report(y_pred, y_true))"
      ],
      "execution_count": null,
      "outputs": [
        {
          "output_type": "stream",
          "text": [
            "              precision    recall  f1-score   support\n",
            "\n",
            "           0       0.46      0.50      0.48       909\n",
            "           1       0.61      0.52      0.56      1188\n",
            "           2       0.17      0.23      0.19       727\n",
            "           3       0.31      0.25      0.28      1237\n",
            "           4       0.36      0.34      0.35      1042\n",
            "           5       0.41      0.33      0.36      1248\n",
            "           6       0.36      0.50      0.42       713\n",
            "           7       0.44      0.48      0.46       912\n",
            "           8       0.57      0.49      0.53      1171\n",
            "           9       0.43      0.51      0.47       853\n",
            "\n",
            "    accuracy                           0.41     10000\n",
            "   macro avg       0.41      0.42      0.41     10000\n",
            "weighted avg       0.42      0.41      0.41     10000\n",
            "\n"
          ],
          "name": "stdout"
        }
      ]
    },
    {
      "cell_type": "code",
      "metadata": {
        "id": "nv_LeDSUcOa4",
        "outputId": "63e9b7c6-e833-4815-e8e6-61d05df40b50",
        "colab": {
          "base_uri": "https://localhost:8080/",
          "height": 187
        }
      },
      "source": [
        "print(confusion_matrix(y_pred, y_true))"
      ],
      "execution_count": null,
      "outputs": [
        {
          "output_type": "stream",
          "text": [
            "[[459  32 102  25  56  25   4  50 120  36]\n",
            " [ 56 613  44  42  12  29  23  32  85 252]\n",
            " [ 80  15 168  91 124  89  51  84  15  10]\n",
            " [ 40  33 104 313 129 200 236  90  37  55]\n",
            " [ 17  11 222  58 359  71 190  97   8   9]\n",
            " [ 28  42 142 272  80 406  77 114  66  21]\n",
            " [ 11  13  87  79  87  43 357  14   5  17]\n",
            " [ 42  19  79  53 109  72  37 441  11  49]\n",
            " [219  86  32  35  24  43  12  28 575 117]\n",
            " [ 48 136  20  32  20  22  13  50  78 434]]\n"
          ],
          "name": "stdout"
        }
      ]
    },
    {
      "cell_type": "markdown",
      "metadata": {
        "id": "CJUtJovjj4hB"
      },
      "source": [
        "## 2. Batch Size: Batch size is changed from 300 to 100."
      ]
    },
    {
      "cell_type": "markdown",
      "metadata": {
        "id": "NtQSp9HCLvXI"
      },
      "source": [
        "### Model Building"
      ]
    },
    {
      "cell_type": "code",
      "metadata": {
        "id": "8ey1mMWcLvXJ",
        "outputId": "532258a9-5ef7-4247-8def-f2c4e24c208b",
        "colab": {
          "base_uri": "https://localhost:8080/",
          "height": 459
        }
      },
      "source": [
        "Model_upd_batch_size = tf.keras.models.Sequential([\n",
        "    tf.keras.layers.Dense(50, input_shape=x_train.shape[1:]),\n",
        "    tf.keras.layers.Activation('relu'),\n",
        "    \n",
        "    tf.keras.layers.Dense(32,kernel_regularizer = regularizers.l2(l2=0.001)),\n",
        "    tf.keras.layers.Activation('relu'),\n",
        "    tf.keras.layers.Dropout(0.1),\n",
        "\n",
        "    tf.keras.layers.Dense(32,kernel_regularizer = regularizers.l2(l2=0.001)),\n",
        "    tf.keras.layers.Activation('relu'),\n",
        "\n",
        "    tf.keras.layers.Dense(10),\n",
        "    tf.keras.layers.Activation('softmax')\n",
        "  ])\n",
        "\n",
        "Model_upd_batch_size.summary()"
      ],
      "execution_count": null,
      "outputs": [
        {
          "output_type": "stream",
          "text": [
            "Model: \"sequential_2\"\n",
            "_________________________________________________________________\n",
            "Layer (type)                 Output Shape              Param #   \n",
            "=================================================================\n",
            "dense_8 (Dense)              (None, 50)                153650    \n",
            "_________________________________________________________________\n",
            "activation_8 (Activation)    (None, 50)                0         \n",
            "_________________________________________________________________\n",
            "dense_9 (Dense)              (None, 32)                1632      \n",
            "_________________________________________________________________\n",
            "activation_9 (Activation)    (None, 32)                0         \n",
            "_________________________________________________________________\n",
            "dropout_2 (Dropout)          (None, 32)                0         \n",
            "_________________________________________________________________\n",
            "dense_10 (Dense)             (None, 32)                1056      \n",
            "_________________________________________________________________\n",
            "activation_10 (Activation)   (None, 32)                0         \n",
            "_________________________________________________________________\n",
            "dense_11 (Dense)             (None, 10)                330       \n",
            "_________________________________________________________________\n",
            "activation_11 (Activation)   (None, 10)                0         \n",
            "=================================================================\n",
            "Total params: 156,668\n",
            "Trainable params: 156,668\n",
            "Non-trainable params: 0\n",
            "_________________________________________________________________\n"
          ],
          "name": "stdout"
        }
      ]
    },
    {
      "cell_type": "markdown",
      "metadata": {
        "id": "4eQmAX-DLvXO"
      },
      "source": [
        "### Model Compilation"
      ]
    },
    {
      "cell_type": "code",
      "metadata": {
        "id": "cghzN3lVLvXP"
      },
      "source": [
        "opt = keras.optimizers.Adam(learning_rate=0.01)\n",
        "\n",
        "Model_upd_batch_size.compile(optimizer = opt, loss = \"categorical_crossentropy\", metrics = [\"accuracy\"])"
      ],
      "execution_count": null,
      "outputs": []
    },
    {
      "cell_type": "markdown",
      "metadata": {
        "id": "RN1RceBkLvXR"
      },
      "source": [
        "### Model Training"
      ]
    },
    {
      "cell_type": "code",
      "metadata": {
        "id": "nCQMteXvLvXS",
        "outputId": "103e33fc-3931-4a20-9e93-70e51cf8de15",
        "colab": {
          "base_uri": "https://localhost:8080/",
          "height": 1000
        }
      },
      "source": [
        "start_time = time.time()\n",
        "\n",
        "history = Model_upd_batch_size.fit(x_train, y_train, epochs = 50, batch_size = 100, validation_split = 0.1)\n",
        "\n",
        "print(f'Total training time is {time.time() - start_time} seconds')"
      ],
      "execution_count": null,
      "outputs": [
        {
          "output_type": "stream",
          "text": [
            "Epoch 1/50\n",
            "450/450 [==============================] - 1s 3ms/step - loss: 2.1093 - accuracy: 0.2204 - val_loss: 1.9494 - val_accuracy: 0.2656\n",
            "Epoch 2/50\n",
            "450/450 [==============================] - 1s 3ms/step - loss: 1.9484 - accuracy: 0.2727 - val_loss: 1.9561 - val_accuracy: 0.2772\n",
            "Epoch 3/50\n",
            "450/450 [==============================] - 1s 3ms/step - loss: 1.9204 - accuracy: 0.2868 - val_loss: 1.8961 - val_accuracy: 0.3008\n",
            "Epoch 4/50\n",
            "450/450 [==============================] - 1s 3ms/step - loss: 1.9051 - accuracy: 0.2940 - val_loss: 1.9219 - val_accuracy: 0.2728\n",
            "Epoch 5/50\n",
            "450/450 [==============================] - 1s 3ms/step - loss: 1.8936 - accuracy: 0.2984 - val_loss: 1.9220 - val_accuracy: 0.2932\n",
            "Epoch 6/50\n",
            "450/450 [==============================] - 1s 3ms/step - loss: 1.8877 - accuracy: 0.3007 - val_loss: 1.8826 - val_accuracy: 0.3148\n",
            "Epoch 7/50\n",
            "450/450 [==============================] - 1s 3ms/step - loss: 1.8802 - accuracy: 0.3031 - val_loss: 1.8632 - val_accuracy: 0.3124\n",
            "Epoch 8/50\n",
            "450/450 [==============================] - 1s 3ms/step - loss: 1.8750 - accuracy: 0.3058 - val_loss: 1.8843 - val_accuracy: 0.2992\n",
            "Epoch 9/50\n",
            "450/450 [==============================] - 1s 3ms/step - loss: 1.8736 - accuracy: 0.3056 - val_loss: 1.8826 - val_accuracy: 0.3092\n",
            "Epoch 10/50\n",
            "450/450 [==============================] - 1s 3ms/step - loss: 1.8737 - accuracy: 0.3056 - val_loss: 1.9031 - val_accuracy: 0.2978\n",
            "Epoch 11/50\n",
            "450/450 [==============================] - 1s 3ms/step - loss: 1.8692 - accuracy: 0.3071 - val_loss: 1.8913 - val_accuracy: 0.3018\n",
            "Epoch 12/50\n",
            "450/450 [==============================] - 1s 3ms/step - loss: 1.8651 - accuracy: 0.3082 - val_loss: 1.8676 - val_accuracy: 0.3050\n",
            "Epoch 13/50\n",
            "450/450 [==============================] - 1s 3ms/step - loss: 1.8636 - accuracy: 0.3085 - val_loss: 1.9039 - val_accuracy: 0.2892\n",
            "Epoch 14/50\n",
            "450/450 [==============================] - 1s 3ms/step - loss: 1.8691 - accuracy: 0.3074 - val_loss: 1.9072 - val_accuracy: 0.3104\n",
            "Epoch 15/50\n",
            "450/450 [==============================] - 1s 3ms/step - loss: 1.8743 - accuracy: 0.3034 - val_loss: 1.8486 - val_accuracy: 0.3234\n",
            "Epoch 16/50\n",
            "450/450 [==============================] - 1s 3ms/step - loss: 1.8655 - accuracy: 0.3088 - val_loss: 1.8976 - val_accuracy: 0.2976\n",
            "Epoch 17/50\n",
            "450/450 [==============================] - 2s 3ms/step - loss: 1.8591 - accuracy: 0.3109 - val_loss: 1.8536 - val_accuracy: 0.3190\n",
            "Epoch 18/50\n",
            "450/450 [==============================] - 1s 3ms/step - loss: 1.8609 - accuracy: 0.3085 - val_loss: 1.8734 - val_accuracy: 0.3136\n",
            "Epoch 19/50\n",
            "450/450 [==============================] - 1s 3ms/step - loss: 1.8599 - accuracy: 0.3083 - val_loss: 1.8729 - val_accuracy: 0.3092\n",
            "Epoch 20/50\n",
            "450/450 [==============================] - 1s 3ms/step - loss: 1.8512 - accuracy: 0.3141 - val_loss: 1.9474 - val_accuracy: 0.2884\n",
            "Epoch 21/50\n",
            "450/450 [==============================] - 1s 3ms/step - loss: 1.8596 - accuracy: 0.3108 - val_loss: 1.8990 - val_accuracy: 0.2998\n",
            "Epoch 22/50\n",
            "450/450 [==============================] - 1s 3ms/step - loss: 1.8577 - accuracy: 0.3150 - val_loss: 1.8424 - val_accuracy: 0.3262\n",
            "Epoch 23/50\n",
            "450/450 [==============================] - 2s 3ms/step - loss: 1.8510 - accuracy: 0.3135 - val_loss: 1.8812 - val_accuracy: 0.3028\n",
            "Epoch 24/50\n",
            "450/450 [==============================] - 1s 3ms/step - loss: 1.8528 - accuracy: 0.3132 - val_loss: 1.8549 - val_accuracy: 0.3186\n",
            "Epoch 25/50\n",
            "450/450 [==============================] - 1s 3ms/step - loss: 1.8506 - accuracy: 0.3160 - val_loss: 1.8686 - val_accuracy: 0.3182\n",
            "Epoch 26/50\n",
            "450/450 [==============================] - 1s 3ms/step - loss: 1.8523 - accuracy: 0.3151 - val_loss: 1.8790 - val_accuracy: 0.3070\n",
            "Epoch 27/50\n",
            "450/450 [==============================] - 1s 3ms/step - loss: 1.8521 - accuracy: 0.3161 - val_loss: 1.8512 - val_accuracy: 0.3182\n",
            "Epoch 28/50\n",
            "450/450 [==============================] - 1s 3ms/step - loss: 1.8499 - accuracy: 0.3155 - val_loss: 1.8714 - val_accuracy: 0.3040\n",
            "Epoch 29/50\n",
            "450/450 [==============================] - 1s 3ms/step - loss: 1.8505 - accuracy: 0.3148 - val_loss: 1.8614 - val_accuracy: 0.3144\n",
            "Epoch 30/50\n",
            "450/450 [==============================] - 1s 3ms/step - loss: 1.8545 - accuracy: 0.3125 - val_loss: 1.8941 - val_accuracy: 0.2980\n",
            "Epoch 31/50\n",
            "450/450 [==============================] - 1s 3ms/step - loss: 1.8477 - accuracy: 0.3153 - val_loss: 1.8436 - val_accuracy: 0.3128\n",
            "Epoch 32/50\n",
            "450/450 [==============================] - 1s 3ms/step - loss: 1.8536 - accuracy: 0.3156 - val_loss: 1.8626 - val_accuracy: 0.3186\n",
            "Epoch 33/50\n",
            "450/450 [==============================] - 1s 3ms/step - loss: 1.8510 - accuracy: 0.3142 - val_loss: 1.8768 - val_accuracy: 0.3142\n",
            "Epoch 34/50\n",
            "450/450 [==============================] - 1s 3ms/step - loss: 1.8479 - accuracy: 0.3148 - val_loss: 1.8353 - val_accuracy: 0.3218\n",
            "Epoch 35/50\n",
            "450/450 [==============================] - 1s 3ms/step - loss: 1.8492 - accuracy: 0.3176 - val_loss: 1.8938 - val_accuracy: 0.2872\n",
            "Epoch 36/50\n",
            "450/450 [==============================] - 1s 3ms/step - loss: 1.8462 - accuracy: 0.3168 - val_loss: 1.8473 - val_accuracy: 0.3198\n",
            "Epoch 37/50\n",
            "450/450 [==============================] - 1s 3ms/step - loss: 1.8422 - accuracy: 0.3193 - val_loss: 1.8359 - val_accuracy: 0.3150\n",
            "Epoch 38/50\n",
            "450/450 [==============================] - 1s 3ms/step - loss: 1.8400 - accuracy: 0.3207 - val_loss: 1.8560 - val_accuracy: 0.3264\n",
            "Epoch 39/50\n",
            "450/450 [==============================] - 1s 3ms/step - loss: 1.8437 - accuracy: 0.3176 - val_loss: 1.9216 - val_accuracy: 0.2850\n",
            "Epoch 40/50\n",
            "450/450 [==============================] - 1s 3ms/step - loss: 1.8430 - accuracy: 0.3168 - val_loss: 1.8520 - val_accuracy: 0.3202\n",
            "Epoch 41/50\n",
            "450/450 [==============================] - 1s 3ms/step - loss: 1.8420 - accuracy: 0.3228 - val_loss: 1.8908 - val_accuracy: 0.3094\n",
            "Epoch 42/50\n",
            "450/450 [==============================] - 1s 3ms/step - loss: 1.8426 - accuracy: 0.3185 - val_loss: 1.8808 - val_accuracy: 0.3152\n",
            "Epoch 43/50\n",
            "450/450 [==============================] - 1s 3ms/step - loss: 1.8450 - accuracy: 0.3167 - val_loss: 1.8440 - val_accuracy: 0.3208\n",
            "Epoch 44/50\n",
            "450/450 [==============================] - 1s 3ms/step - loss: 1.8449 - accuracy: 0.3198 - val_loss: 1.8757 - val_accuracy: 0.3064\n",
            "Epoch 45/50\n",
            "450/450 [==============================] - 1s 3ms/step - loss: 1.8400 - accuracy: 0.3190 - val_loss: 1.8519 - val_accuracy: 0.3178\n",
            "Epoch 46/50\n",
            "450/450 [==============================] - 1s 3ms/step - loss: 1.8399 - accuracy: 0.3205 - val_loss: 1.8611 - val_accuracy: 0.3116\n",
            "Epoch 47/50\n",
            "450/450 [==============================] - 1s 3ms/step - loss: 1.8374 - accuracy: 0.3210 - val_loss: 1.8479 - val_accuracy: 0.3248\n",
            "Epoch 48/50\n",
            "450/450 [==============================] - 1s 3ms/step - loss: 1.8443 - accuracy: 0.3182 - val_loss: 1.8593 - val_accuracy: 0.3142\n",
            "Epoch 49/50\n",
            "450/450 [==============================] - 1s 3ms/step - loss: 1.8406 - accuracy: 0.3190 - val_loss: 1.8584 - val_accuracy: 0.3170\n",
            "Epoch 50/50\n",
            "450/450 [==============================] - 1s 3ms/step - loss: 1.8472 - accuracy: 0.3168 - val_loss: 1.8530 - val_accuracy: 0.3152\n",
            "Total training time is 68.25689959526062 seconds\n"
          ],
          "name": "stdout"
        }
      ]
    },
    {
      "cell_type": "code",
      "metadata": {
        "id": "lMK9S5YiLvXa",
        "outputId": "becd13aa-d391-4662-a869-f57ca4af2c2f",
        "colab": {
          "base_uri": "https://localhost:8080/",
          "height": 573
        }
      },
      "source": [
        "# plotting training and validation loss\n",
        "\n",
        "loss = history.history['loss']\n",
        "val_loss = history.history['val_loss']\n",
        "epochs = range(1, len(loss) + 1)\n",
        "plt.plot(epochs, loss, color='red', label='Training loss')\n",
        "plt.plot(epochs, val_loss, color='green', label='Validation loss')\n",
        "plt.title('Training and Validation loss')\n",
        "plt.xlabel('Epochs')\n",
        "plt.ylabel('Loss')\n",
        "plt.legend()\n",
        "plt.show()\n",
        "\n",
        "# plotting training and validation accuracy\n",
        "\n",
        "acc = history.history['accuracy']\n",
        "val_acc = history.history['val_accuracy']\n",
        "plt.plot(epochs, acc, color='red', label='Training acc')\n",
        "plt.plot(epochs, val_acc, color='green', label='Validation acc')\n",
        "plt.title('Training and Validation accuracy')\n",
        "plt.xlabel('Epochs')\n",
        "plt.ylabel('Accuracy')\n",
        "plt.legend()\n",
        "plt.show()"
      ],
      "execution_count": null,
      "outputs": [
        {
          "output_type": "display_data",
          "data": {
            "image/png": "[encoded data removed]",
            "text/plain": [
              "<Figure size 432x288 with 1 Axes>"
            ]
          },
          "metadata": {
            "tags": [],
            "needs_background": "light"
          }
        },
        {
          "output_type": "display_data",
          "data": {
            "image/png": "[encoded data removed]",
            "text/plain": [
              "<Figure size 432x288 with 1 Axes>"
            ]
          },
          "metadata": {
            "tags": [],
            "needs_background": "light"
          }
        }
      ]
    },
    {
      "cell_type": "markdown",
      "metadata": {
        "id": "hHYWw0zuLvXd"
      },
      "source": [
        "### Model Evaluation"
      ]
    },
    {
      "cell_type": "code",
      "metadata": {
        "id": "VKQPcYnyLvXd",
        "outputId": "b35673e9-206f-42bf-9835-fb2d7c815dc0",
        "colab": {
          "base_uri": "https://localhost:8080/",
          "height": 51
        }
      },
      "source": [
        "# Printing the total training loss and accuracy\n",
        "\n",
        "print('Final training loss \\t', history.history['loss'][-1])\n",
        "print('Final training accuracy ', history.history['accuracy'][-1])"
      ],
      "execution_count": null,
      "outputs": [
        {
          "output_type": "stream",
          "text": [
            "Final training loss \t 1.8471746444702148\n",
            "Final training accuracy  0.3168444335460663\n"
          ],
          "name": "stdout"
        }
      ]
    },
    {
      "cell_type": "code",
      "metadata": {
        "id": "UCmcB4kKLvXg",
        "outputId": "965ce1a6-0e9b-4fd1-b690-cde68b3e8372",
        "colab": {
          "base_uri": "https://localhost:8080/",
          "height": 51
        }
      },
      "source": [
        "# Printing the total validation loss and accuracy\n",
        "\n",
        "print('Final Validation loss \\t', history.history['val_loss'][-1])\n",
        "print('Final Validation accuracy ', history.history['val_accuracy'][-1])"
      ],
      "execution_count": null,
      "outputs": [
        {
          "output_type": "stream",
          "text": [
            "Final Validation loss \t 1.8530335426330566\n",
            "Final Validation accuracy  0.31520000100135803\n"
          ],
          "name": "stdout"
        }
      ]
    },
    {
      "cell_type": "code",
      "metadata": {
        "id": "5pOlciJHLvXl",
        "outputId": "2d9782d6-ad76-4eee-a940-75799080ede5",
        "colab": {
          "base_uri": "https://localhost:8080/",
          "height": 34
        }
      },
      "source": [
        "# Printing the test loss and accuracy\n",
        "\n",
        "testLoss, testAccuracy = Model_upd_batch_size.evaluate( x_test, y_test)"
      ],
      "execution_count": null,
      "outputs": [
        {
          "output_type": "stream",
          "text": [
            "313/313 [==============================] - 1s 3ms/step - loss: 1.8450 - accuracy: 0.3056\n"
          ],
          "name": "stdout"
        }
      ]
    },
    {
      "cell_type": "code",
      "metadata": {
        "id": "1KMOJU8mclxu",
        "outputId": "2eec1432-7eeb-472c-c180-d8e9a6f8974c",
        "colab": {
          "base_uri": "https://localhost:8080/",
          "height": 306
        }
      },
      "source": [
        "y_pred = Model_upd_batch_size.predict_classes(x_test)\n",
        "y_true = np.argmax(y_test, axis=1)\n",
        "print(classification_report(y_pred, y_true))"
      ],
      "execution_count": null,
      "outputs": [
        {
          "output_type": "stream",
          "text": [
            "              precision    recall  f1-score   support\n",
            "\n",
            "           0       0.14      0.39      0.21       375\n",
            "           1       0.23      0.44      0.31       528\n",
            "           2       0.01      0.23      0.01        30\n",
            "           3       0.04      0.19      0.06       210\n",
            "           4       0.15      0.23      0.18       660\n",
            "           5       0.31      0.32      0.31       976\n",
            "           6       0.59      0.32      0.41      1858\n",
            "           7       0.52      0.31      0.39      1648\n",
            "           8       0.52      0.31      0.39      1661\n",
            "           9       0.54      0.26      0.35      2054\n",
            "\n",
            "    accuracy                           0.31     10000\n",
            "   macro avg       0.31      0.30      0.26     10000\n",
            "weighted avg       0.45      0.31      0.35     10000\n",
            "\n"
          ],
          "name": "stdout"
        }
      ]
    },
    {
      "cell_type": "code",
      "metadata": {
        "id": "7tzw5CMVclx0",
        "outputId": "9d831101-280e-4343-b5a3-768af1738b35",
        "colab": {
          "base_uri": "https://localhost:8080/",
          "height": 187
        }
      },
      "source": [
        "print(confusion_matrix(y_pred, y_true))"
      ],
      "execution_count": null,
      "outputs": [
        {
          "output_type": "stream",
          "text": [
            "[[145  11  51  14  21  14   3  38  62  16]\n",
            " [ 10 234  11  14   2  11   7   6  67 166]\n",
            " [  8   1   7   4   3   1   1   3   2   0]\n",
            " [ 11  24  14  39  14  26  23  18  23  18]\n",
            " [ 14  13 137  72 152  89 104  66   3  10]\n",
            " [ 28  35  75 247  64 309  93  52  59  14]\n",
            " [ 42  75 250 265 290 194 593  77  11  61]\n",
            " [ 81  44 245 144 299 172  78 519  20  46]\n",
            " [511 104 113  60  63  90  11  62 518 129]\n",
            " [150 459  97 141  92  94  87 159 235 540]]\n"
          ],
          "name": "stdout"
        }
      ]
    },
    {
      "cell_type": "markdown",
      "metadata": {
        "id": "dEQ0xQtDmRkr"
      },
      "source": [
        "# Comparison\n",
        "\n",
        "When we moved the dropout layer after layer 3 with new dropout value of 0.2\n",
        "the accuracy is negatively impacted. Similarly, when we changed the batch size from 300 to 100 the accuracy is going down and training time for model increases (doubled). The state of the art accuracy for this dataset is in the range of 99.5% achieved using ViT-H/14 model."
      ]
    },
    {
      "cell_type": "code",
      "metadata": {
        "id": "O3mQeD1aUDQl"
      },
      "source": [
        ""
      ],
      "execution_count": null,
      "outputs": []
    }
  ]
}