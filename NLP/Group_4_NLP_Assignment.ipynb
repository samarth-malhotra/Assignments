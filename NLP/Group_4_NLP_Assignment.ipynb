{
  "nbformat": 4,
  "nbformat_minor": 0,
  "metadata": {
    "kernelspec": {
      "display_name": "Python 3",
      "language": "python",
      "name": "python3"
    },
    "language_info": {
      "codemirror_mode": {
        "name": "ipython",
        "version": 3
      },
      "file_extension": ".py",
      "mimetype": "text/x-python",
      "name": "python",
      "nbconvert_exporter": "python",
      "pygments_lexer": "ipython3",
      "version": "3.8.3"
    },
    "colab": {
      "name": "NLP Assignment.ipynb",
      "provenance": [],
      "collapsed_sections": []
    }
  },
  "cells": [
    {
      "cell_type": "markdown",
      "metadata": {
        "id": "nqxD-FpUNavz"
      },
      "source": [
        "## Importing required packages"
      ]
    },
    {
      "cell_type": "code",
      "metadata": {
        "id": "aP72xJMqT8v6",
        "colab": {
          "base_uri": "https://localhost:8080/"
        },
        "outputId": "76cf34a8-9fa0-4011-cc46-37607c9f29a7"
      },
      "source": [
        "import pandas as pd\n",
        "import numpy as np\n",
        "import nltk\n",
        "from nltk.corpus import stopwords\n",
        "import string\n",
        "import re\n",
        "import spacy\n",
        "from sklearn.feature_extraction.text import CountVectorizer\n",
        "from sklearn.model_selection import train_test_split\n",
        "from sklearn.metrics import confusion_matrix\n",
        "from sklearn.naive_bayes import MultinomialNB\n",
        "from nltk.tokenize import word_tokenize\n",
        "from spacy import displacy\n",
        "nltk.download('stopwords')\n",
        "nltk.download('punkt')\n",
        "nltk.download('averaged_perceptron_tagger')"
      ],
      "execution_count": 1,
      "outputs": [
        {
          "output_type": "stream",
          "text": [
            "[nltk_data] Downloading package stopwords to /root/nltk_data...\n",
            "[nltk_data]   Package stopwords is already up-to-date!\n",
            "[nltk_data] Downloading package punkt to /root/nltk_data...\n",
            "[nltk_data]   Package punkt is already up-to-date!\n",
            "[nltk_data] Downloading package averaged_perceptron_tagger to\n",
            "[nltk_data]     /root/nltk_data...\n",
            "[nltk_data]   Package averaged_perceptron_tagger is already up-to-\n",
            "[nltk_data]       date!\n"
          ],
          "name": "stdout"
        },
        {
          "output_type": "execute_result",
          "data": {
            "text/plain": [
              "True"
            ]
          },
          "metadata": {
            "tags": []
          },
          "execution_count": 1
        }
      ]
    },
    {
      "cell_type": "code",
      "metadata": {
        "id": "UsZgTPrEUB64",
        "colab": {
          "base_uri": "https://localhost:8080/"
        },
        "outputId": "817d0d9d-6b18-4dc2-802f-b42049e797f4"
      },
      "source": [
        "from google.colab import drive\n",
        "drive.mount('/content/drive')"
      ],
      "execution_count": 2,
      "outputs": [
        {
          "output_type": "stream",
          "text": [
            "Drive already mounted at /content/drive; to attempt to forcibly remount, call drive.mount(\"/content/drive\", force_remount=True).\n"
          ],
          "name": "stdout"
        }
      ]
    },
    {
      "cell_type": "markdown",
      "metadata": {
        "id": "_7sAeFPjNh8c"
      },
      "source": [
        "## 1. Reading the json file and setting it as a DataFrame"
      ]
    },
    {
      "cell_type": "code",
      "metadata": {
        "id": "WZ0kVLApT8wF"
      },
      "source": [
        "df = pd.read_json(\"/content/drive/MyDrive/bits/bits/sem - 3/assignments/nlp/yelp.json\", lines=True)"
      ],
      "execution_count": 3,
      "outputs": []
    },
    {
      "cell_type": "code",
      "metadata": {
        "id": "JDadRinyT8wG"
      },
      "source": [
        "df = df[['text', 'stars']].copy()"
      ],
      "execution_count": 4,
      "outputs": []
    },
    {
      "cell_type": "markdown",
      "metadata": {
        "id": "zG3LjkhkN_cR"
      },
      "source": [
        "## 2. Cleaning up the text \r\n",
        "\r\n",
        "\r\n",
        "*   Remove punctuations and special characters\r\n",
        "*   Remove stop words\r\n",
        "*   Convert text to lower case\r\n",
        "\r\n"
      ]
    },
    {
      "cell_type": "code",
      "metadata": {
        "id": "2yFF4NgVT8wG"
      },
      "source": [
        "def clean(doc):\n",
        "    stop = set(stopwords.words('english'))  # Getting the set of stop words\n",
        "    exclude = set(string.punctuation)  # Set of punctuations including special characters\n",
        "    clean_text = re.sub(r'['+string.punctuation+']+', ' ',doc) # Removing punctuations and special characters\n",
        "    normalized = \" \".join([i for i in clean_text.lower().split() if i not in stop]) # Removing stop words and converting to lower case\n",
        "    return normalized"
      ],
      "execution_count": 5,
      "outputs": []
    },
    {
      "cell_type": "code",
      "metadata": {
        "id": "VMAjDMSWT8wH"
      },
      "source": [
        "df['text'] = df.text.apply(clean)"
      ],
      "execution_count": 6,
      "outputs": []
    },
    {
      "cell_type": "markdown",
      "metadata": {
        "id": "W4XislmtPmir"
      },
      "source": [
        "## 3. Vectorizing and Splitting the data in test and train"
      ]
    },
    {
      "cell_type": "code",
      "metadata": {
        "id": "iQKbv6oLT8wJ"
      },
      "source": [
        "vectorizer = CountVectorizer()\n",
        "X = vectorizer.fit_transform(df.text.values)\n",
        "Y = df.stars.values"
      ],
      "execution_count": 8,
      "outputs": []
    },
    {
      "cell_type": "code",
      "metadata": {
        "id": "ebaKlOWgT8wJ"
      },
      "source": [
        "X_train, X_test, Y_train, Y_test = train_test_split(X, Y, test_size=0.2)"
      ],
      "execution_count": 9,
      "outputs": []
    },
    {
      "cell_type": "markdown",
      "metadata": {
        "id": "YbfrHzH4P-WJ"
      },
      "source": [
        "### Training a MultinomialNB model "
      ]
    },
    {
      "cell_type": "code",
      "metadata": {
        "id": "-_hvEXtGT8wJ",
        "colab": {
          "base_uri": "https://localhost:8080/"
        },
        "outputId": "d87b2895-4466-425b-8a92-0688b9ad70a9"
      },
      "source": [
        "clf = MultinomialNB()\n",
        "clf.fit(X_train, Y_train)"
      ],
      "execution_count": 10,
      "outputs": [
        {
          "output_type": "execute_result",
          "data": {
            "text/plain": [
              "MultinomialNB(alpha=1.0, class_prior=None, fit_prior=True)"
            ]
          },
          "metadata": {
            "tags": []
          },
          "execution_count": 10
        }
      ]
    },
    {
      "cell_type": "markdown",
      "metadata": {
        "id": "eNqBJgCSQF4W"
      },
      "source": [
        "### Displaying the confusion Matrix"
      ]
    },
    {
      "cell_type": "code",
      "metadata": {
        "id": "N_7UCsTST8wK",
        "colab": {
          "base_uri": "https://localhost:8080/"
        },
        "outputId": "dca76565-4aea-4e40-e206-d3add55cc693"
      },
      "source": [
        "confusion_matrix(Y_test, clf.predict(X_test), labels=[5,4,3,2,1])"
      ],
      "execution_count": 11,
      "outputs": [
        {
          "output_type": "execute_result",
          "data": {
            "text/plain": [
              "array([[ 9213,  5293,   273,    75,   517],\n",
              "       [ 3892, 10015,  1356,   212,   416],\n",
              "       [  543,  3023,  2504,   569,   383],\n",
              "       [  166,   634,  1444,  1212,   802],\n",
              "       [  116,   197,   354,   845,  1928]])"
            ]
          },
          "metadata": {
            "tags": []
          },
          "execution_count": 11
        }
      ]
    },
    {
      "cell_type": "markdown",
      "metadata": {
        "id": "vMl4kOUWQRjZ"
      },
      "source": [
        "## 4. POS tagging on the first 4 rows of text"
      ]
    },
    {
      "cell_type": "code",
      "metadata": {
        "id": "O_GLKefeT8wL",
        "colab": {
          "base_uri": "https://localhost:8080/"
        },
        "outputId": "d972ed8d-711a-41d0-88cf-a8acc6f77fd7"
      },
      "source": [
        "for i,row in df.iloc[0:4].iterrows():\n",
        "    sentence = word_tokenize(row['text'])\n",
        "    print('-'*125)\n",
        "    print(row['text'])\n",
        "    print(nltk.pos_tag(sentence))"
      ],
      "execution_count": 12,
      "outputs": [
        {
          "output_type": "stream",
          "text": [
            "-----------------------------------------------------------------------------------------------------------------------------\n",
            "wife took birthday breakfast excellent weather perfect made sitting outside overlooking grounds absolute pleasure waitress excellent food arrived quickly semi busy saturday morning looked like place fills pretty quickly earlier get better favor get bloody mary phenomenal simply best ever pretty sure use ingredients garden blend fresh order amazing everything menu looks excellent white truffle scrambled eggs vegetable skillet tasty delicious came 2 pieces griddled bread amazing absolutely made meal complete best toast ever anyway wait go back\n",
            "[('wife', 'NN'), ('took', 'VBD'), ('birthday', 'JJ'), ('breakfast', 'NN'), ('excellent', 'NN'), ('weather', 'NN'), ('perfect', 'NN'), ('made', 'VBD'), ('sitting', 'VBG'), ('outside', 'JJ'), ('overlooking', 'VBG'), ('grounds', 'NNS'), ('absolute', 'JJ'), ('pleasure', 'NN'), ('waitress', 'NN'), ('excellent', 'JJ'), ('food', 'NN'), ('arrived', 'VBD'), ('quickly', 'RB'), ('semi', 'JJ'), ('busy', 'JJ'), ('saturday', 'JJ'), ('morning', 'NN'), ('looked', 'VBD'), ('like', 'IN'), ('place', 'NN'), ('fills', 'NNS'), ('pretty', 'RB'), ('quickly', 'RB'), ('earlier', 'RBR'), ('get', 'VB'), ('better', 'JJR'), ('favor', 'NN'), ('get', 'VB'), ('bloody', 'JJ'), ('mary', 'JJ'), ('phenomenal', 'NN'), ('simply', 'RB'), ('best', 'JJS'), ('ever', 'RB'), ('pretty', 'RB'), ('sure', 'JJ'), ('use', 'NN'), ('ingredients', 'NNS'), ('garden', 'JJ'), ('blend', 'VBP'), ('fresh', 'JJ'), ('order', 'NN'), ('amazing', 'VBG'), ('everything', 'NN'), ('menu', 'NN'), ('looks', 'VBZ'), ('excellent', 'JJ'), ('white', 'JJ'), ('truffle', 'NN'), ('scrambled', 'VBD'), ('eggs', 'NNS'), ('vegetable', 'JJ'), ('skillet', 'NN'), ('tasty', 'JJ'), ('delicious', 'JJ'), ('came', 'VBD'), ('2', 'CD'), ('pieces', 'NNS'), ('griddled', 'VBN'), ('bread', 'JJ'), ('amazing', 'VBG'), ('absolutely', 'RB'), ('made', 'VBN'), ('meal', 'NN'), ('complete', 'JJ'), ('best', 'RBS'), ('toast', 'JJ'), ('ever', 'RB'), ('anyway', 'RB'), ('wait', 'NN'), ('go', 'VBP'), ('back', 'RB')]\n",
            "-----------------------------------------------------------------------------------------------------------------------------\n",
            "idea people give bad reviews place goes show please everyone probably griping something fault many people like case friend arrived 5 50 pm past sunday pretty crowded thought sunday evening thought would wait forever get seat said seated girl comes back seating someone else seated 5 52 waiter came got drink orders everyone pleasant host seated us waiter server prices good well placed orders decided wanted 6 02 shared baked spaghetti calzone small beef pizza try calzone huge got smallest one personal got small 11 pizza awesome friend liked pizza better liked calzone better calzone sweetish sauce like sauce box part pizza take home door 6 42 everything great like bad reviewers goes show try things bad reviewers serious issues\n",
            "[('idea', 'NN'), ('people', 'NNS'), ('give', 'VBP'), ('bad', 'JJ'), ('reviews', 'NNS'), ('place', 'NN'), ('goes', 'VBZ'), ('show', 'VB'), ('please', 'IN'), ('everyone', 'NN'), ('probably', 'RB'), ('griping', 'VBG'), ('something', 'NN'), ('fault', 'RB'), ('many', 'JJ'), ('people', 'NNS'), ('like', 'IN'), ('case', 'NN'), ('friend', 'VBP'), ('arrived', 'VBD'), ('5', 'CD'), ('50', 'CD'), ('pm', 'NN'), ('past', 'NN'), ('sunday', 'NN'), ('pretty', 'RB'), ('crowded', 'VBD'), ('thought', 'VBN'), ('sunday', 'RB'), ('evening', 'VBG'), ('thought', 'VBN'), ('would', 'MD'), ('wait', 'VB'), ('forever', 'RB'), ('get', 'VB'), ('seat', 'NN'), ('said', 'VBD'), ('seated', 'VBN'), ('girl', 'NN'), ('comes', 'VBZ'), ('back', 'RB'), ('seating', 'VBG'), ('someone', 'NN'), ('else', 'RB'), ('seated', 'VBD'), ('5', 'CD'), ('52', 'CD'), ('waiter', 'NN'), ('came', 'VBD'), ('got', 'VBD'), ('drink', 'JJ'), ('orders', 'NNS'), ('everyone', 'NN'), ('pleasant', 'JJ'), ('host', 'NN'), ('seated', 'VBD'), ('us', 'PRP'), ('waiter', 'JJR'), ('server', 'NN'), ('prices', 'NNS'), ('good', 'JJ'), ('well', 'RB'), ('placed', 'VBN'), ('orders', 'NNS'), ('decided', 'VBD'), ('wanted', 'VBD'), ('6', 'CD'), ('02', 'CD'), ('shared', 'VBN'), ('baked', 'VBD'), ('spaghetti', 'NNS'), ('calzone', 'VB'), ('small', 'JJ'), ('beef', 'NN'), ('pizza', 'NN'), ('try', 'VB'), ('calzone', 'NN'), ('huge', 'JJ'), ('got', 'VBD'), ('smallest', 'JJS'), ('one', 'CD'), ('personal', 'JJ'), ('got', 'VBD'), ('small', 'JJ'), ('11', 'CD'), ('pizza', 'JJ'), ('awesome', 'JJ'), ('friend', 'NN'), ('liked', 'VBD'), ('pizza', 'JJ'), ('better', 'JJR'), ('liked', 'VBD'), ('calzone', 'NN'), ('better', 'RBR'), ('calzone', 'NN'), ('sweetish', 'JJ'), ('sauce', 'NN'), ('like', 'IN'), ('sauce', 'NN'), ('box', 'NN'), ('part', 'NN'), ('pizza', 'VBP'), ('take', 'VB'), ('home', 'NN'), ('door', 'NN'), ('6', 'CD'), ('42', 'CD'), ('everything', 'NN'), ('great', 'JJ'), ('like', 'IN'), ('bad', 'JJ'), ('reviewers', 'NNS'), ('goes', 'VBZ'), ('show', 'RB'), ('try', 'JJ'), ('things', 'NNS'), ('bad', 'JJ'), ('reviewers', 'NNS'), ('serious', 'JJ'), ('issues', 'NNS')]\n",
            "-----------------------------------------------------------------------------------------------------------------------------\n",
            "love gyro plate rice good also dig candy selection\n",
            "[('love', 'NN'), ('gyro', 'NN'), ('plate', 'NN'), ('rice', 'NN'), ('good', 'NN'), ('also', 'RB'), ('dig', 'VBZ'), ('candy', 'NN'), ('selection', 'NN')]\n",
            "-----------------------------------------------------------------------------------------------------------------------------\n",
            "rosie dakota love chaparral dog park convenient surrounded lot paths desert xeriscape baseball fields ballparks lake ducks scottsdale park rec dept wonderful job keeping park clean shaded find trash cans poopy pick mitts located park paths fenced area huge let dogs run play sniff\n",
            "[('rosie', 'NN'), ('dakota', 'NN'), ('love', 'IN'), ('chaparral', 'JJ'), ('dog', 'NN'), ('park', 'NN'), ('convenient', 'NN'), ('surrounded', 'VBD'), ('lot', 'NN'), ('paths', 'NNS'), ('desert', 'VBP'), ('xeriscape', 'NNP'), ('baseball', 'NN'), ('fields', 'NNS'), ('ballparks', 'NNS'), ('lake', 'VBP'), ('ducks', 'NNS'), ('scottsdale', 'JJ'), ('park', 'NN'), ('rec', 'NN'), ('dept', 'VBD'), ('wonderful', 'JJ'), ('job', 'NN'), ('keeping', 'VBG'), ('park', 'JJ'), ('clean', 'NN'), ('shaded', 'VBD'), ('find', 'JJ'), ('trash', 'JJ'), ('cans', 'NNS'), ('poopy', 'VBP'), ('pick', 'JJ'), ('mitts', 'NN'), ('located', 'VBN'), ('park', 'JJ'), ('paths', 'NNS'), ('fenced', 'VBD'), ('area', 'NN'), ('huge', 'JJ'), ('let', 'NN'), ('dogs', 'NNS'), ('run', 'VB'), ('play', 'NN'), ('sniff', 'NN')]\n"
          ],
          "name": "stdout"
        }
      ]
    },
    {
      "cell_type": "markdown",
      "metadata": {
        "id": "4xzcCgjTQd5L"
      },
      "source": [
        "## 5. Build and display dependency parser tree"
      ]
    },
    {
      "cell_type": "code",
      "metadata": {
        "id": "ZpBji-OGT8wL",
        "colab": {
          "base_uri": "https://localhost:8080/"
        },
        "outputId": "6a23fb37-2656-4656-99d0-f3c8ff47b332"
      },
      "source": [
        "nlp = spacy.load('en_core_web_sm')\r\n",
        "text = \"It turned out that Cersei was having an affair with her twin brother, Jaime Lannister — and that all of Robert's supposed children, including his heir, Joffrey, were actually fathered by Jaime.\"\r\n",
        "for token in nlp(text):\r\n",
        "  print(token.text, '->', token.dep_,'->', token.head.text)"
      ],
      "execution_count": 13,
      "outputs": [
        {
          "output_type": "stream",
          "text": [
            "It -> nsubj -> turned\n",
            "turned -> ROOT -> turned\n",
            "out -> prt -> turned\n",
            "that -> mark -> having\n",
            "Cersei -> nsubj -> having\n",
            "was -> aux -> having\n",
            "having -> ccomp -> turned\n",
            "an -> det -> affair\n",
            "affair -> dobj -> having\n",
            "with -> prep -> affair\n",
            "her -> poss -> brother\n",
            "twin -> amod -> brother\n",
            "brother -> pobj -> with\n",
            ", -> punct -> brother\n",
            "Jaime -> compound -> Lannister\n",
            "Lannister -> appos -> brother\n",
            "— -> punct -> having\n",
            "and -> cc -> having\n",
            "that -> mark -> fathered\n",
            "all -> nsubjpass -> fathered\n",
            "of -> prep -> all\n",
            "Robert -> poss -> children\n",
            "'s -> case -> Robert\n",
            "supposed -> amod -> children\n",
            "children -> pobj -> of\n",
            ", -> punct -> children\n",
            "including -> prep -> children\n",
            "his -> poss -> heir\n",
            "heir -> pobj -> including\n",
            ", -> punct -> heir\n",
            "Joffrey -> appos -> heir\n",
            ", -> punct -> fathered\n",
            "were -> auxpass -> fathered\n",
            "actually -> advmod -> fathered\n",
            "fathered -> conj -> having\n",
            "by -> agent -> fathered\n",
            "Jaime -> pobj -> by\n",
            ". -> punct -> turned\n"
          ],
          "name": "stdout"
        }
      ]
    },
    {
      "cell_type": "code",
      "metadata": {
        "colab": {
          "base_uri": "https://localhost:8080/",
          "height": 966
        },
        "id": "a07c8BbjTepy",
        "outputId": "b5ddef3e-75ac-44dd-d75a-d1f6aede4bb9"
      },
      "source": [
        "displacy.render(nlp(text), jupyter=True)"
      ],
      "execution_count": 14,
      "outputs": [
        {
          "output_type": "display_data",
          "data": {
            "text/html": [
              "<span class=\"tex2jax_ignore\"><svg xmlns=\"http://www.w3.org/2000/svg\" xmlns:xlink=\"http://www.w3.org/1999/xlink\" xml:lang=\"en\" id=\"deda615fb7d2471da91e0e49d51b3f19-0\" class=\"displacy\" width=\"5650\" height=\"924.5\" direction=\"ltr\" style=\"max-width: none; height: 924.5px; color: #000000; background: #ffffff; font-family: Arial; direction: ltr\">\n",
              "<text class=\"displacy-token\" fill=\"currentColor\" text-anchor=\"middle\" y=\"834.5\">\n",
              "    <tspan class=\"displacy-word\" fill=\"currentColor\" x=\"50\">It</tspan>\n",
              "    <tspan class=\"displacy-tag\" dy=\"2em\" fill=\"currentColor\" x=\"50\">PRON</tspan>\n",
              "</text>\n",
              "\n",
              "<text class=\"displacy-token\" fill=\"currentColor\" text-anchor=\"middle\" y=\"834.5\">\n",
              "    <tspan class=\"displacy-word\" fill=\"currentColor\" x=\"225\">turned</tspan>\n",
              "    <tspan class=\"displacy-tag\" dy=\"2em\" fill=\"currentColor\" x=\"225\">VERB</tspan>\n",
              "</text>\n",
              "\n",
              "<text class=\"displacy-token\" fill=\"currentColor\" text-anchor=\"middle\" y=\"834.5\">\n",
              "    <tspan class=\"displacy-word\" fill=\"currentColor\" x=\"400\">out</tspan>\n",
              "    <tspan class=\"displacy-tag\" dy=\"2em\" fill=\"currentColor\" x=\"400\">ADP</tspan>\n",
              "</text>\n",
              "\n",
              "<text class=\"displacy-token\" fill=\"currentColor\" text-anchor=\"middle\" y=\"834.5\">\n",
              "    <tspan class=\"displacy-word\" fill=\"currentColor\" x=\"575\">that</tspan>\n",
              "    <tspan class=\"displacy-tag\" dy=\"2em\" fill=\"currentColor\" x=\"575\">SCONJ</tspan>\n",
              "</text>\n",
              "\n",
              "<text class=\"displacy-token\" fill=\"currentColor\" text-anchor=\"middle\" y=\"834.5\">\n",
              "    <tspan class=\"displacy-word\" fill=\"currentColor\" x=\"750\">Cersei</tspan>\n",
              "    <tspan class=\"displacy-tag\" dy=\"2em\" fill=\"currentColor\" x=\"750\">PROPN</tspan>\n",
              "</text>\n",
              "\n",
              "<text class=\"displacy-token\" fill=\"currentColor\" text-anchor=\"middle\" y=\"834.5\">\n",
              "    <tspan class=\"displacy-word\" fill=\"currentColor\" x=\"925\">was</tspan>\n",
              "    <tspan class=\"displacy-tag\" dy=\"2em\" fill=\"currentColor\" x=\"925\">AUX</tspan>\n",
              "</text>\n",
              "\n",
              "<text class=\"displacy-token\" fill=\"currentColor\" text-anchor=\"middle\" y=\"834.5\">\n",
              "    <tspan class=\"displacy-word\" fill=\"currentColor\" x=\"1100\">having</tspan>\n",
              "    <tspan class=\"displacy-tag\" dy=\"2em\" fill=\"currentColor\" x=\"1100\">VERB</tspan>\n",
              "</text>\n",
              "\n",
              "<text class=\"displacy-token\" fill=\"currentColor\" text-anchor=\"middle\" y=\"834.5\">\n",
              "    <tspan class=\"displacy-word\" fill=\"currentColor\" x=\"1275\">an</tspan>\n",
              "    <tspan class=\"displacy-tag\" dy=\"2em\" fill=\"currentColor\" x=\"1275\">DET</tspan>\n",
              "</text>\n",
              "\n",
              "<text class=\"displacy-token\" fill=\"currentColor\" text-anchor=\"middle\" y=\"834.5\">\n",
              "    <tspan class=\"displacy-word\" fill=\"currentColor\" x=\"1450\">affair</tspan>\n",
              "    <tspan class=\"displacy-tag\" dy=\"2em\" fill=\"currentColor\" x=\"1450\">NOUN</tspan>\n",
              "</text>\n",
              "\n",
              "<text class=\"displacy-token\" fill=\"currentColor\" text-anchor=\"middle\" y=\"834.5\">\n",
              "    <tspan class=\"displacy-word\" fill=\"currentColor\" x=\"1625\">with</tspan>\n",
              "    <tspan class=\"displacy-tag\" dy=\"2em\" fill=\"currentColor\" x=\"1625\">ADP</tspan>\n",
              "</text>\n",
              "\n",
              "<text class=\"displacy-token\" fill=\"currentColor\" text-anchor=\"middle\" y=\"834.5\">\n",
              "    <tspan class=\"displacy-word\" fill=\"currentColor\" x=\"1800\">her</tspan>\n",
              "    <tspan class=\"displacy-tag\" dy=\"2em\" fill=\"currentColor\" x=\"1800\">DET</tspan>\n",
              "</text>\n",
              "\n",
              "<text class=\"displacy-token\" fill=\"currentColor\" text-anchor=\"middle\" y=\"834.5\">\n",
              "    <tspan class=\"displacy-word\" fill=\"currentColor\" x=\"1975\">twin</tspan>\n",
              "    <tspan class=\"displacy-tag\" dy=\"2em\" fill=\"currentColor\" x=\"1975\">ADJ</tspan>\n",
              "</text>\n",
              "\n",
              "<text class=\"displacy-token\" fill=\"currentColor\" text-anchor=\"middle\" y=\"834.5\">\n",
              "    <tspan class=\"displacy-word\" fill=\"currentColor\" x=\"2150\">brother,</tspan>\n",
              "    <tspan class=\"displacy-tag\" dy=\"2em\" fill=\"currentColor\" x=\"2150\">NOUN</tspan>\n",
              "</text>\n",
              "\n",
              "<text class=\"displacy-token\" fill=\"currentColor\" text-anchor=\"middle\" y=\"834.5\">\n",
              "    <tspan class=\"displacy-word\" fill=\"currentColor\" x=\"2325\">Jaime</tspan>\n",
              "    <tspan class=\"displacy-tag\" dy=\"2em\" fill=\"currentColor\" x=\"2325\">PROPN</tspan>\n",
              "</text>\n",
              "\n",
              "<text class=\"displacy-token\" fill=\"currentColor\" text-anchor=\"middle\" y=\"834.5\">\n",
              "    <tspan class=\"displacy-word\" fill=\"currentColor\" x=\"2500\">Lannister —</tspan>\n",
              "    <tspan class=\"displacy-tag\" dy=\"2em\" fill=\"currentColor\" x=\"2500\">PROPN</tspan>\n",
              "</text>\n",
              "\n",
              "<text class=\"displacy-token\" fill=\"currentColor\" text-anchor=\"middle\" y=\"834.5\">\n",
              "    <tspan class=\"displacy-word\" fill=\"currentColor\" x=\"2675\">and</tspan>\n",
              "    <tspan class=\"displacy-tag\" dy=\"2em\" fill=\"currentColor\" x=\"2675\">CCONJ</tspan>\n",
              "</text>\n",
              "\n",
              "<text class=\"displacy-token\" fill=\"currentColor\" text-anchor=\"middle\" y=\"834.5\">\n",
              "    <tspan class=\"displacy-word\" fill=\"currentColor\" x=\"2850\">that</tspan>\n",
              "    <tspan class=\"displacy-tag\" dy=\"2em\" fill=\"currentColor\" x=\"2850\">SCONJ</tspan>\n",
              "</text>\n",
              "\n",
              "<text class=\"displacy-token\" fill=\"currentColor\" text-anchor=\"middle\" y=\"834.5\">\n",
              "    <tspan class=\"displacy-word\" fill=\"currentColor\" x=\"3025\">all</tspan>\n",
              "    <tspan class=\"displacy-tag\" dy=\"2em\" fill=\"currentColor\" x=\"3025\">DET</tspan>\n",
              "</text>\n",
              "\n",
              "<text class=\"displacy-token\" fill=\"currentColor\" text-anchor=\"middle\" y=\"834.5\">\n",
              "    <tspan class=\"displacy-word\" fill=\"currentColor\" x=\"3200\">of</tspan>\n",
              "    <tspan class=\"displacy-tag\" dy=\"2em\" fill=\"currentColor\" x=\"3200\">ADP</tspan>\n",
              "</text>\n",
              "\n",
              "<text class=\"displacy-token\" fill=\"currentColor\" text-anchor=\"middle\" y=\"834.5\">\n",
              "    <tspan class=\"displacy-word\" fill=\"currentColor\" x=\"3375\">Robert</tspan>\n",
              "    <tspan class=\"displacy-tag\" dy=\"2em\" fill=\"currentColor\" x=\"3375\">PROPN</tspan>\n",
              "</text>\n",
              "\n",
              "<text class=\"displacy-token\" fill=\"currentColor\" text-anchor=\"middle\" y=\"834.5\">\n",
              "    <tspan class=\"displacy-word\" fill=\"currentColor\" x=\"3550\">'s</tspan>\n",
              "    <tspan class=\"displacy-tag\" dy=\"2em\" fill=\"currentColor\" x=\"3550\">PART</tspan>\n",
              "</text>\n",
              "\n",
              "<text class=\"displacy-token\" fill=\"currentColor\" text-anchor=\"middle\" y=\"834.5\">\n",
              "    <tspan class=\"displacy-word\" fill=\"currentColor\" x=\"3725\">supposed</tspan>\n",
              "    <tspan class=\"displacy-tag\" dy=\"2em\" fill=\"currentColor\" x=\"3725\">VERB</tspan>\n",
              "</text>\n",
              "\n",
              "<text class=\"displacy-token\" fill=\"currentColor\" text-anchor=\"middle\" y=\"834.5\">\n",
              "    <tspan class=\"displacy-word\" fill=\"currentColor\" x=\"3900\">children,</tspan>\n",
              "    <tspan class=\"displacy-tag\" dy=\"2em\" fill=\"currentColor\" x=\"3900\">NOUN</tspan>\n",
              "</text>\n",
              "\n",
              "<text class=\"displacy-token\" fill=\"currentColor\" text-anchor=\"middle\" y=\"834.5\">\n",
              "    <tspan class=\"displacy-word\" fill=\"currentColor\" x=\"4075\">including</tspan>\n",
              "    <tspan class=\"displacy-tag\" dy=\"2em\" fill=\"currentColor\" x=\"4075\">VERB</tspan>\n",
              "</text>\n",
              "\n",
              "<text class=\"displacy-token\" fill=\"currentColor\" text-anchor=\"middle\" y=\"834.5\">\n",
              "    <tspan class=\"displacy-word\" fill=\"currentColor\" x=\"4250\">his</tspan>\n",
              "    <tspan class=\"displacy-tag\" dy=\"2em\" fill=\"currentColor\" x=\"4250\">DET</tspan>\n",
              "</text>\n",
              "\n",
              "<text class=\"displacy-token\" fill=\"currentColor\" text-anchor=\"middle\" y=\"834.5\">\n",
              "    <tspan class=\"displacy-word\" fill=\"currentColor\" x=\"4425\">heir,</tspan>\n",
              "    <tspan class=\"displacy-tag\" dy=\"2em\" fill=\"currentColor\" x=\"4425\">NOUN</tspan>\n",
              "</text>\n",
              "\n",
              "<text class=\"displacy-token\" fill=\"currentColor\" text-anchor=\"middle\" y=\"834.5\">\n",
              "    <tspan class=\"displacy-word\" fill=\"currentColor\" x=\"4600\">Joffrey,</tspan>\n",
              "    <tspan class=\"displacy-tag\" dy=\"2em\" fill=\"currentColor\" x=\"4600\">PROPN</tspan>\n",
              "</text>\n",
              "\n",
              "<text class=\"displacy-token\" fill=\"currentColor\" text-anchor=\"middle\" y=\"834.5\">\n",
              "    <tspan class=\"displacy-word\" fill=\"currentColor\" x=\"4775\">were</tspan>\n",
              "    <tspan class=\"displacy-tag\" dy=\"2em\" fill=\"currentColor\" x=\"4775\">AUX</tspan>\n",
              "</text>\n",
              "\n",
              "<text class=\"displacy-token\" fill=\"currentColor\" text-anchor=\"middle\" y=\"834.5\">\n",
              "    <tspan class=\"displacy-word\" fill=\"currentColor\" x=\"4950\">actually</tspan>\n",
              "    <tspan class=\"displacy-tag\" dy=\"2em\" fill=\"currentColor\" x=\"4950\">ADV</tspan>\n",
              "</text>\n",
              "\n",
              "<text class=\"displacy-token\" fill=\"currentColor\" text-anchor=\"middle\" y=\"834.5\">\n",
              "    <tspan class=\"displacy-word\" fill=\"currentColor\" x=\"5125\">fathered</tspan>\n",
              "    <tspan class=\"displacy-tag\" dy=\"2em\" fill=\"currentColor\" x=\"5125\">VERB</tspan>\n",
              "</text>\n",
              "\n",
              "<text class=\"displacy-token\" fill=\"currentColor\" text-anchor=\"middle\" y=\"834.5\">\n",
              "    <tspan class=\"displacy-word\" fill=\"currentColor\" x=\"5300\">by</tspan>\n",
              "    <tspan class=\"displacy-tag\" dy=\"2em\" fill=\"currentColor\" x=\"5300\">ADP</tspan>\n",
              "</text>\n",
              "\n",
              "<text class=\"displacy-token\" fill=\"currentColor\" text-anchor=\"middle\" y=\"834.5\">\n",
              "    <tspan class=\"displacy-word\" fill=\"currentColor\" x=\"5475\">Jaime.</tspan>\n",
              "    <tspan class=\"displacy-tag\" dy=\"2em\" fill=\"currentColor\" x=\"5475\">PROPN</tspan>\n",
              "</text>\n",
              "\n",
              "<g class=\"displacy-arrow\">\n",
              "    <path class=\"displacy-arc\" id=\"arrow-deda615fb7d2471da91e0e49d51b3f19-0-0\" stroke-width=\"2px\" d=\"M70,789.5 C70,702.0 185.0,702.0 185.0,789.5\" fill=\"none\" stroke=\"currentColor\"/>\n",
              "    <text dy=\"1.25em\" style=\"font-size: 0.8em; letter-spacing: 1px\">\n",
              "        <textPath xlink:href=\"#arrow-deda615fb7d2471da91e0e49d51b3f19-0-0\" class=\"displacy-label\" startOffset=\"50%\" side=\"left\" fill=\"currentColor\" text-anchor=\"middle\">nsubj</textPath>\n",
              "    </text>\n",
              "    <path class=\"displacy-arrowhead\" d=\"M70,791.5 L62,779.5 78,779.5\" fill=\"currentColor\"/>\n",
              "</g>\n",
              "\n",
              "<g class=\"displacy-arrow\">\n",
              "    <path class=\"displacy-arc\" id=\"arrow-deda615fb7d2471da91e0e49d51b3f19-0-1\" stroke-width=\"2px\" d=\"M245,789.5 C245,702.0 360.0,702.0 360.0,789.5\" fill=\"none\" stroke=\"currentColor\"/>\n",
              "    <text dy=\"1.25em\" style=\"font-size: 0.8em; letter-spacing: 1px\">\n",
              "        <textPath xlink:href=\"#arrow-deda615fb7d2471da91e0e49d51b3f19-0-1\" class=\"displacy-label\" startOffset=\"50%\" side=\"left\" fill=\"currentColor\" text-anchor=\"middle\">prt</textPath>\n",
              "    </text>\n",
              "    <path class=\"displacy-arrowhead\" d=\"M360.0,791.5 L368.0,779.5 352.0,779.5\" fill=\"currentColor\"/>\n",
              "</g>\n",
              "\n",
              "<g class=\"displacy-arrow\">\n",
              "    <path class=\"displacy-arc\" id=\"arrow-deda615fb7d2471da91e0e49d51b3f19-0-2\" stroke-width=\"2px\" d=\"M595,789.5 C595,527.0 1070.0,527.0 1070.0,789.5\" fill=\"none\" stroke=\"currentColor\"/>\n",
              "    <text dy=\"1.25em\" style=\"font-size: 0.8em; letter-spacing: 1px\">\n",
              "        <textPath xlink:href=\"#arrow-deda615fb7d2471da91e0e49d51b3f19-0-2\" class=\"displacy-label\" startOffset=\"50%\" side=\"left\" fill=\"currentColor\" text-anchor=\"middle\">mark</textPath>\n",
              "    </text>\n",
              "    <path class=\"displacy-arrowhead\" d=\"M595,791.5 L587,779.5 603,779.5\" fill=\"currentColor\"/>\n",
              "</g>\n",
              "\n",
              "<g class=\"displacy-arrow\">\n",
              "    <path class=\"displacy-arc\" id=\"arrow-deda615fb7d2471da91e0e49d51b3f19-0-3\" stroke-width=\"2px\" d=\"M770,789.5 C770,614.5 1065.0,614.5 1065.0,789.5\" fill=\"none\" stroke=\"currentColor\"/>\n",
              "    <text dy=\"1.25em\" style=\"font-size: 0.8em; letter-spacing: 1px\">\n",
              "        <textPath xlink:href=\"#arrow-deda615fb7d2471da91e0e49d51b3f19-0-3\" class=\"displacy-label\" startOffset=\"50%\" side=\"left\" fill=\"currentColor\" text-anchor=\"middle\">nsubj</textPath>\n",
              "    </text>\n",
              "    <path class=\"displacy-arrowhead\" d=\"M770,791.5 L762,779.5 778,779.5\" fill=\"currentColor\"/>\n",
              "</g>\n",
              "\n",
              "<g class=\"displacy-arrow\">\n",
              "    <path class=\"displacy-arc\" id=\"arrow-deda615fb7d2471da91e0e49d51b3f19-0-4\" stroke-width=\"2px\" d=\"M945,789.5 C945,702.0 1060.0,702.0 1060.0,789.5\" fill=\"none\" stroke=\"currentColor\"/>\n",
              "    <text dy=\"1.25em\" style=\"font-size: 0.8em; letter-spacing: 1px\">\n",
              "        <textPath xlink:href=\"#arrow-deda615fb7d2471da91e0e49d51b3f19-0-4\" class=\"displacy-label\" startOffset=\"50%\" side=\"left\" fill=\"currentColor\" text-anchor=\"middle\">aux</textPath>\n",
              "    </text>\n",
              "    <path class=\"displacy-arrowhead\" d=\"M945,791.5 L937,779.5 953,779.5\" fill=\"currentColor\"/>\n",
              "</g>\n",
              "\n",
              "<g class=\"displacy-arrow\">\n",
              "    <path class=\"displacy-arc\" id=\"arrow-deda615fb7d2471da91e0e49d51b3f19-0-5\" stroke-width=\"2px\" d=\"M245,789.5 C245,352.0 1080.0,352.0 1080.0,789.5\" fill=\"none\" stroke=\"currentColor\"/>\n",
              "    <text dy=\"1.25em\" style=\"font-size: 0.8em; letter-spacing: 1px\">\n",
              "        <textPath xlink:href=\"#arrow-deda615fb7d2471da91e0e49d51b3f19-0-5\" class=\"displacy-label\" startOffset=\"50%\" side=\"left\" fill=\"currentColor\" text-anchor=\"middle\">ccomp</textPath>\n",
              "    </text>\n",
              "    <path class=\"displacy-arrowhead\" d=\"M1080.0,791.5 L1088.0,779.5 1072.0,779.5\" fill=\"currentColor\"/>\n",
              "</g>\n",
              "\n",
              "<g class=\"displacy-arrow\">\n",
              "    <path class=\"displacy-arc\" id=\"arrow-deda615fb7d2471da91e0e49d51b3f19-0-6\" stroke-width=\"2px\" d=\"M1295,789.5 C1295,702.0 1410.0,702.0 1410.0,789.5\" fill=\"none\" stroke=\"currentColor\"/>\n",
              "    <text dy=\"1.25em\" style=\"font-size: 0.8em; letter-spacing: 1px\">\n",
              "        <textPath xlink:href=\"#arrow-deda615fb7d2471da91e0e49d51b3f19-0-6\" class=\"displacy-label\" startOffset=\"50%\" side=\"left\" fill=\"currentColor\" text-anchor=\"middle\">det</textPath>\n",
              "    </text>\n",
              "    <path class=\"displacy-arrowhead\" d=\"M1295,791.5 L1287,779.5 1303,779.5\" fill=\"currentColor\"/>\n",
              "</g>\n",
              "\n",
              "<g class=\"displacy-arrow\">\n",
              "    <path class=\"displacy-arc\" id=\"arrow-deda615fb7d2471da91e0e49d51b3f19-0-7\" stroke-width=\"2px\" d=\"M1120,789.5 C1120,614.5 1415.0,614.5 1415.0,789.5\" fill=\"none\" stroke=\"currentColor\"/>\n",
              "    <text dy=\"1.25em\" style=\"font-size: 0.8em; letter-spacing: 1px\">\n",
              "        <textPath xlink:href=\"#arrow-deda615fb7d2471da91e0e49d51b3f19-0-7\" class=\"displacy-label\" startOffset=\"50%\" side=\"left\" fill=\"currentColor\" text-anchor=\"middle\">dobj</textPath>\n",
              "    </text>\n",
              "    <path class=\"displacy-arrowhead\" d=\"M1415.0,791.5 L1423.0,779.5 1407.0,779.5\" fill=\"currentColor\"/>\n",
              "</g>\n",
              "\n",
              "<g class=\"displacy-arrow\">\n",
              "    <path class=\"displacy-arc\" id=\"arrow-deda615fb7d2471da91e0e49d51b3f19-0-8\" stroke-width=\"2px\" d=\"M1470,789.5 C1470,702.0 1585.0,702.0 1585.0,789.5\" fill=\"none\" stroke=\"currentColor\"/>\n",
              "    <text dy=\"1.25em\" style=\"font-size: 0.8em; letter-spacing: 1px\">\n",
              "        <textPath xlink:href=\"#arrow-deda615fb7d2471da91e0e49d51b3f19-0-8\" class=\"displacy-label\" startOffset=\"50%\" side=\"left\" fill=\"currentColor\" text-anchor=\"middle\">prep</textPath>\n",
              "    </text>\n",
              "    <path class=\"displacy-arrowhead\" d=\"M1585.0,791.5 L1593.0,779.5 1577.0,779.5\" fill=\"currentColor\"/>\n",
              "</g>\n",
              "\n",
              "<g class=\"displacy-arrow\">\n",
              "    <path class=\"displacy-arc\" id=\"arrow-deda615fb7d2471da91e0e49d51b3f19-0-9\" stroke-width=\"2px\" d=\"M1820,789.5 C1820,614.5 2115.0,614.5 2115.0,789.5\" fill=\"none\" stroke=\"currentColor\"/>\n",
              "    <text dy=\"1.25em\" style=\"font-size: 0.8em; letter-spacing: 1px\">\n",
              "        <textPath xlink:href=\"#arrow-deda615fb7d2471da91e0e49d51b3f19-0-9\" class=\"displacy-label\" startOffset=\"50%\" side=\"left\" fill=\"currentColor\" text-anchor=\"middle\">poss</textPath>\n",
              "    </text>\n",
              "    <path class=\"displacy-arrowhead\" d=\"M1820,791.5 L1812,779.5 1828,779.5\" fill=\"currentColor\"/>\n",
              "</g>\n",
              "\n",
              "<g class=\"displacy-arrow\">\n",
              "    <path class=\"displacy-arc\" id=\"arrow-deda615fb7d2471da91e0e49d51b3f19-0-10\" stroke-width=\"2px\" d=\"M1995,789.5 C1995,702.0 2110.0,702.0 2110.0,789.5\" fill=\"none\" stroke=\"currentColor\"/>\n",
              "    <text dy=\"1.25em\" style=\"font-size: 0.8em; letter-spacing: 1px\">\n",
              "        <textPath xlink:href=\"#arrow-deda615fb7d2471da91e0e49d51b3f19-0-10\" class=\"displacy-label\" startOffset=\"50%\" side=\"left\" fill=\"currentColor\" text-anchor=\"middle\">amod</textPath>\n",
              "    </text>\n",
              "    <path class=\"displacy-arrowhead\" d=\"M1995,791.5 L1987,779.5 2003,779.5\" fill=\"currentColor\"/>\n",
              "</g>\n",
              "\n",
              "<g class=\"displacy-arrow\">\n",
              "    <path class=\"displacy-arc\" id=\"arrow-deda615fb7d2471da91e0e49d51b3f19-0-11\" stroke-width=\"2px\" d=\"M1645,789.5 C1645,527.0 2120.0,527.0 2120.0,789.5\" fill=\"none\" stroke=\"currentColor\"/>\n",
              "    <text dy=\"1.25em\" style=\"font-size: 0.8em; letter-spacing: 1px\">\n",
              "        <textPath xlink:href=\"#arrow-deda615fb7d2471da91e0e49d51b3f19-0-11\" class=\"displacy-label\" startOffset=\"50%\" side=\"left\" fill=\"currentColor\" text-anchor=\"middle\">pobj</textPath>\n",
              "    </text>\n",
              "    <path class=\"displacy-arrowhead\" d=\"M2120.0,791.5 L2128.0,779.5 2112.0,779.5\" fill=\"currentColor\"/>\n",
              "</g>\n",
              "\n",
              "<g class=\"displacy-arrow\">\n",
              "    <path class=\"displacy-arc\" id=\"arrow-deda615fb7d2471da91e0e49d51b3f19-0-12\" stroke-width=\"2px\" d=\"M2345,789.5 C2345,702.0 2460.0,702.0 2460.0,789.5\" fill=\"none\" stroke=\"currentColor\"/>\n",
              "    <text dy=\"1.25em\" style=\"font-size: 0.8em; letter-spacing: 1px\">\n",
              "        <textPath xlink:href=\"#arrow-deda615fb7d2471da91e0e49d51b3f19-0-12\" class=\"displacy-label\" startOffset=\"50%\" side=\"left\" fill=\"currentColor\" text-anchor=\"middle\">compound</textPath>\n",
              "    </text>\n",
              "    <path class=\"displacy-arrowhead\" d=\"M2345,791.5 L2337,779.5 2353,779.5\" fill=\"currentColor\"/>\n",
              "</g>\n",
              "\n",
              "<g class=\"displacy-arrow\">\n",
              "    <path class=\"displacy-arc\" id=\"arrow-deda615fb7d2471da91e0e49d51b3f19-0-13\" stroke-width=\"2px\" d=\"M2170,789.5 C2170,614.5 2465.0,614.5 2465.0,789.5\" fill=\"none\" stroke=\"currentColor\"/>\n",
              "    <text dy=\"1.25em\" style=\"font-size: 0.8em; letter-spacing: 1px\">\n",
              "        <textPath xlink:href=\"#arrow-deda615fb7d2471da91e0e49d51b3f19-0-13\" class=\"displacy-label\" startOffset=\"50%\" side=\"left\" fill=\"currentColor\" text-anchor=\"middle\">appos</textPath>\n",
              "    </text>\n",
              "    <path class=\"displacy-arrowhead\" d=\"M2465.0,791.5 L2473.0,779.5 2457.0,779.5\" fill=\"currentColor\"/>\n",
              "</g>\n",
              "\n",
              "<g class=\"displacy-arrow\">\n",
              "    <path class=\"displacy-arc\" id=\"arrow-deda615fb7d2471da91e0e49d51b3f19-0-14\" stroke-width=\"2px\" d=\"M1120,789.5 C1120,264.5 2660.0,264.5 2660.0,789.5\" fill=\"none\" stroke=\"currentColor\"/>\n",
              "    <text dy=\"1.25em\" style=\"font-size: 0.8em; letter-spacing: 1px\">\n",
              "        <textPath xlink:href=\"#arrow-deda615fb7d2471da91e0e49d51b3f19-0-14\" class=\"displacy-label\" startOffset=\"50%\" side=\"left\" fill=\"currentColor\" text-anchor=\"middle\">cc</textPath>\n",
              "    </text>\n",
              "    <path class=\"displacy-arrowhead\" d=\"M2660.0,791.5 L2668.0,779.5 2652.0,779.5\" fill=\"currentColor\"/>\n",
              "</g>\n",
              "\n",
              "<g class=\"displacy-arrow\">\n",
              "    <path class=\"displacy-arc\" id=\"arrow-deda615fb7d2471da91e0e49d51b3f19-0-15\" stroke-width=\"2px\" d=\"M2870,789.5 C2870,89.5 5120.0,89.5 5120.0,789.5\" fill=\"none\" stroke=\"currentColor\"/>\n",
              "    <text dy=\"1.25em\" style=\"font-size: 0.8em; letter-spacing: 1px\">\n",
              "        <textPath xlink:href=\"#arrow-deda615fb7d2471da91e0e49d51b3f19-0-15\" class=\"displacy-label\" startOffset=\"50%\" side=\"left\" fill=\"currentColor\" text-anchor=\"middle\">mark</textPath>\n",
              "    </text>\n",
              "    <path class=\"displacy-arrowhead\" d=\"M2870,791.5 L2862,779.5 2878,779.5\" fill=\"currentColor\"/>\n",
              "</g>\n",
              "\n",
              "<g class=\"displacy-arrow\">\n",
              "    <path class=\"displacy-arc\" id=\"arrow-deda615fb7d2471da91e0e49d51b3f19-0-16\" stroke-width=\"2px\" d=\"M3045,789.5 C3045,177.0 5115.0,177.0 5115.0,789.5\" fill=\"none\" stroke=\"currentColor\"/>\n",
              "    <text dy=\"1.25em\" style=\"font-size: 0.8em; letter-spacing: 1px\">\n",
              "        <textPath xlink:href=\"#arrow-deda615fb7d2471da91e0e49d51b3f19-0-16\" class=\"displacy-label\" startOffset=\"50%\" side=\"left\" fill=\"currentColor\" text-anchor=\"middle\">nsubjpass</textPath>\n",
              "    </text>\n",
              "    <path class=\"displacy-arrowhead\" d=\"M3045,791.5 L3037,779.5 3053,779.5\" fill=\"currentColor\"/>\n",
              "</g>\n",
              "\n",
              "<g class=\"displacy-arrow\">\n",
              "    <path class=\"displacy-arc\" id=\"arrow-deda615fb7d2471da91e0e49d51b3f19-0-17\" stroke-width=\"2px\" d=\"M3045,789.5 C3045,702.0 3160.0,702.0 3160.0,789.5\" fill=\"none\" stroke=\"currentColor\"/>\n",
              "    <text dy=\"1.25em\" style=\"font-size: 0.8em; letter-spacing: 1px\">\n",
              "        <textPath xlink:href=\"#arrow-deda615fb7d2471da91e0e49d51b3f19-0-17\" class=\"displacy-label\" startOffset=\"50%\" side=\"left\" fill=\"currentColor\" text-anchor=\"middle\">prep</textPath>\n",
              "    </text>\n",
              "    <path class=\"displacy-arrowhead\" d=\"M3160.0,791.5 L3168.0,779.5 3152.0,779.5\" fill=\"currentColor\"/>\n",
              "</g>\n",
              "\n",
              "<g class=\"displacy-arrow\">\n",
              "    <path class=\"displacy-arc\" id=\"arrow-deda615fb7d2471da91e0e49d51b3f19-0-18\" stroke-width=\"2px\" d=\"M3395,789.5 C3395,527.0 3870.0,527.0 3870.0,789.5\" fill=\"none\" stroke=\"currentColor\"/>\n",
              "    <text dy=\"1.25em\" style=\"font-size: 0.8em; letter-spacing: 1px\">\n",
              "        <textPath xlink:href=\"#arrow-deda615fb7d2471da91e0e49d51b3f19-0-18\" class=\"displacy-label\" startOffset=\"50%\" side=\"left\" fill=\"currentColor\" text-anchor=\"middle\">poss</textPath>\n",
              "    </text>\n",
              "    <path class=\"displacy-arrowhead\" d=\"M3395,791.5 L3387,779.5 3403,779.5\" fill=\"currentColor\"/>\n",
              "</g>\n",
              "\n",
              "<g class=\"displacy-arrow\">\n",
              "    <path class=\"displacy-arc\" id=\"arrow-deda615fb7d2471da91e0e49d51b3f19-0-19\" stroke-width=\"2px\" d=\"M3395,789.5 C3395,702.0 3510.0,702.0 3510.0,789.5\" fill=\"none\" stroke=\"currentColor\"/>\n",
              "    <text dy=\"1.25em\" style=\"font-size: 0.8em; letter-spacing: 1px\">\n",
              "        <textPath xlink:href=\"#arrow-deda615fb7d2471da91e0e49d51b3f19-0-19\" class=\"displacy-label\" startOffset=\"50%\" side=\"left\" fill=\"currentColor\" text-anchor=\"middle\">case</textPath>\n",
              "    </text>\n",
              "    <path class=\"displacy-arrowhead\" d=\"M3510.0,791.5 L3518.0,779.5 3502.0,779.5\" fill=\"currentColor\"/>\n",
              "</g>\n",
              "\n",
              "<g class=\"displacy-arrow\">\n",
              "    <path class=\"displacy-arc\" id=\"arrow-deda615fb7d2471da91e0e49d51b3f19-0-20\" stroke-width=\"2px\" d=\"M3745,789.5 C3745,702.0 3860.0,702.0 3860.0,789.5\" fill=\"none\" stroke=\"currentColor\"/>\n",
              "    <text dy=\"1.25em\" style=\"font-size: 0.8em; letter-spacing: 1px\">\n",
              "        <textPath xlink:href=\"#arrow-deda615fb7d2471da91e0e49d51b3f19-0-20\" class=\"displacy-label\" startOffset=\"50%\" side=\"left\" fill=\"currentColor\" text-anchor=\"middle\">amod</textPath>\n",
              "    </text>\n",
              "    <path class=\"displacy-arrowhead\" d=\"M3745,791.5 L3737,779.5 3753,779.5\" fill=\"currentColor\"/>\n",
              "</g>\n",
              "\n",
              "<g class=\"displacy-arrow\">\n",
              "    <path class=\"displacy-arc\" id=\"arrow-deda615fb7d2471da91e0e49d51b3f19-0-21\" stroke-width=\"2px\" d=\"M3220,789.5 C3220,439.5 3875.0,439.5 3875.0,789.5\" fill=\"none\" stroke=\"currentColor\"/>\n",
              "    <text dy=\"1.25em\" style=\"font-size: 0.8em; letter-spacing: 1px\">\n",
              "        <textPath xlink:href=\"#arrow-deda615fb7d2471da91e0e49d51b3f19-0-21\" class=\"displacy-label\" startOffset=\"50%\" side=\"left\" fill=\"currentColor\" text-anchor=\"middle\">pobj</textPath>\n",
              "    </text>\n",
              "    <path class=\"displacy-arrowhead\" d=\"M3875.0,791.5 L3883.0,779.5 3867.0,779.5\" fill=\"currentColor\"/>\n",
              "</g>\n",
              "\n",
              "<g class=\"displacy-arrow\">\n",
              "    <path class=\"displacy-arc\" id=\"arrow-deda615fb7d2471da91e0e49d51b3f19-0-22\" stroke-width=\"2px\" d=\"M3920,789.5 C3920,702.0 4035.0,702.0 4035.0,789.5\" fill=\"none\" stroke=\"currentColor\"/>\n",
              "    <text dy=\"1.25em\" style=\"font-size: 0.8em; letter-spacing: 1px\">\n",
              "        <textPath xlink:href=\"#arrow-deda615fb7d2471da91e0e49d51b3f19-0-22\" class=\"displacy-label\" startOffset=\"50%\" side=\"left\" fill=\"currentColor\" text-anchor=\"middle\">prep</textPath>\n",
              "    </text>\n",
              "    <path class=\"displacy-arrowhead\" d=\"M4035.0,791.5 L4043.0,779.5 4027.0,779.5\" fill=\"currentColor\"/>\n",
              "</g>\n",
              "\n",
              "<g class=\"displacy-arrow\">\n",
              "    <path class=\"displacy-arc\" id=\"arrow-deda615fb7d2471da91e0e49d51b3f19-0-23\" stroke-width=\"2px\" d=\"M4270,789.5 C4270,702.0 4385.0,702.0 4385.0,789.5\" fill=\"none\" stroke=\"currentColor\"/>\n",
              "    <text dy=\"1.25em\" style=\"font-size: 0.8em; letter-spacing: 1px\">\n",
              "        <textPath xlink:href=\"#arrow-deda615fb7d2471da91e0e49d51b3f19-0-23\" class=\"displacy-label\" startOffset=\"50%\" side=\"left\" fill=\"currentColor\" text-anchor=\"middle\">poss</textPath>\n",
              "    </text>\n",
              "    <path class=\"displacy-arrowhead\" d=\"M4270,791.5 L4262,779.5 4278,779.5\" fill=\"currentColor\"/>\n",
              "</g>\n",
              "\n",
              "<g class=\"displacy-arrow\">\n",
              "    <path class=\"displacy-arc\" id=\"arrow-deda615fb7d2471da91e0e49d51b3f19-0-24\" stroke-width=\"2px\" d=\"M4095,789.5 C4095,614.5 4390.0,614.5 4390.0,789.5\" fill=\"none\" stroke=\"currentColor\"/>\n",
              "    <text dy=\"1.25em\" style=\"font-size: 0.8em; letter-spacing: 1px\">\n",
              "        <textPath xlink:href=\"#arrow-deda615fb7d2471da91e0e49d51b3f19-0-24\" class=\"displacy-label\" startOffset=\"50%\" side=\"left\" fill=\"currentColor\" text-anchor=\"middle\">pobj</textPath>\n",
              "    </text>\n",
              "    <path class=\"displacy-arrowhead\" d=\"M4390.0,791.5 L4398.0,779.5 4382.0,779.5\" fill=\"currentColor\"/>\n",
              "</g>\n",
              "\n",
              "<g class=\"displacy-arrow\">\n",
              "    <path class=\"displacy-arc\" id=\"arrow-deda615fb7d2471da91e0e49d51b3f19-0-25\" stroke-width=\"2px\" d=\"M4445,789.5 C4445,702.0 4560.0,702.0 4560.0,789.5\" fill=\"none\" stroke=\"currentColor\"/>\n",
              "    <text dy=\"1.25em\" style=\"font-size: 0.8em; letter-spacing: 1px\">\n",
              "        <textPath xlink:href=\"#arrow-deda615fb7d2471da91e0e49d51b3f19-0-25\" class=\"displacy-label\" startOffset=\"50%\" side=\"left\" fill=\"currentColor\" text-anchor=\"middle\">appos</textPath>\n",
              "    </text>\n",
              "    <path class=\"displacy-arrowhead\" d=\"M4560.0,791.5 L4568.0,779.5 4552.0,779.5\" fill=\"currentColor\"/>\n",
              "</g>\n",
              "\n",
              "<g class=\"displacy-arrow\">\n",
              "    <path class=\"displacy-arc\" id=\"arrow-deda615fb7d2471da91e0e49d51b3f19-0-26\" stroke-width=\"2px\" d=\"M4795,789.5 C4795,614.5 5090.0,614.5 5090.0,789.5\" fill=\"none\" stroke=\"currentColor\"/>\n",
              "    <text dy=\"1.25em\" style=\"font-size: 0.8em; letter-spacing: 1px\">\n",
              "        <textPath xlink:href=\"#arrow-deda615fb7d2471da91e0e49d51b3f19-0-26\" class=\"displacy-label\" startOffset=\"50%\" side=\"left\" fill=\"currentColor\" text-anchor=\"middle\">auxpass</textPath>\n",
              "    </text>\n",
              "    <path class=\"displacy-arrowhead\" d=\"M4795,791.5 L4787,779.5 4803,779.5\" fill=\"currentColor\"/>\n",
              "</g>\n",
              "\n",
              "<g class=\"displacy-arrow\">\n",
              "    <path class=\"displacy-arc\" id=\"arrow-deda615fb7d2471da91e0e49d51b3f19-0-27\" stroke-width=\"2px\" d=\"M4970,789.5 C4970,702.0 5085.0,702.0 5085.0,789.5\" fill=\"none\" stroke=\"currentColor\"/>\n",
              "    <text dy=\"1.25em\" style=\"font-size: 0.8em; letter-spacing: 1px\">\n",
              "        <textPath xlink:href=\"#arrow-deda615fb7d2471da91e0e49d51b3f19-0-27\" class=\"displacy-label\" startOffset=\"50%\" side=\"left\" fill=\"currentColor\" text-anchor=\"middle\">advmod</textPath>\n",
              "    </text>\n",
              "    <path class=\"displacy-arrowhead\" d=\"M4970,791.5 L4962,779.5 4978,779.5\" fill=\"currentColor\"/>\n",
              "</g>\n",
              "\n",
              "<g class=\"displacy-arrow\">\n",
              "    <path class=\"displacy-arc\" id=\"arrow-deda615fb7d2471da91e0e49d51b3f19-0-28\" stroke-width=\"2px\" d=\"M1120,789.5 C1120,2.0 5125.0,2.0 5125.0,789.5\" fill=\"none\" stroke=\"currentColor\"/>\n",
              "    <text dy=\"1.25em\" style=\"font-size: 0.8em; letter-spacing: 1px\">\n",
              "        <textPath xlink:href=\"#arrow-deda615fb7d2471da91e0e49d51b3f19-0-28\" class=\"displacy-label\" startOffset=\"50%\" side=\"left\" fill=\"currentColor\" text-anchor=\"middle\">conj</textPath>\n",
              "    </text>\n",
              "    <path class=\"displacy-arrowhead\" d=\"M5125.0,791.5 L5133.0,779.5 5117.0,779.5\" fill=\"currentColor\"/>\n",
              "</g>\n",
              "\n",
              "<g class=\"displacy-arrow\">\n",
              "    <path class=\"displacy-arc\" id=\"arrow-deda615fb7d2471da91e0e49d51b3f19-0-29\" stroke-width=\"2px\" d=\"M5145,789.5 C5145,702.0 5260.0,702.0 5260.0,789.5\" fill=\"none\" stroke=\"currentColor\"/>\n",
              "    <text dy=\"1.25em\" style=\"font-size: 0.8em; letter-spacing: 1px\">\n",
              "        <textPath xlink:href=\"#arrow-deda615fb7d2471da91e0e49d51b3f19-0-29\" class=\"displacy-label\" startOffset=\"50%\" side=\"left\" fill=\"currentColor\" text-anchor=\"middle\">agent</textPath>\n",
              "    </text>\n",
              "    <path class=\"displacy-arrowhead\" d=\"M5260.0,791.5 L5268.0,779.5 5252.0,779.5\" fill=\"currentColor\"/>\n",
              "</g>\n",
              "\n",
              "<g class=\"displacy-arrow\">\n",
              "    <path class=\"displacy-arc\" id=\"arrow-deda615fb7d2471da91e0e49d51b3f19-0-30\" stroke-width=\"2px\" d=\"M5320,789.5 C5320,702.0 5435.0,702.0 5435.0,789.5\" fill=\"none\" stroke=\"currentColor\"/>\n",
              "    <text dy=\"1.25em\" style=\"font-size: 0.8em; letter-spacing: 1px\">\n",
              "        <textPath xlink:href=\"#arrow-deda615fb7d2471da91e0e49d51b3f19-0-30\" class=\"displacy-label\" startOffset=\"50%\" side=\"left\" fill=\"currentColor\" text-anchor=\"middle\">pobj</textPath>\n",
              "    </text>\n",
              "    <path class=\"displacy-arrowhead\" d=\"M5435.0,791.5 L5443.0,779.5 5427.0,779.5\" fill=\"currentColor\"/>\n",
              "</g>\n",
              "</svg></span>"
            ],
            "text/plain": [
              "<IPython.core.display.HTML object>"
            ]
          },
          "metadata": {
            "tags": []
          }
        }
      ]
    },
    {
      "cell_type": "code",
      "metadata": {
        "id": "CUYHffxPWLd3"
      },
      "source": [
        ""
      ],
      "execution_count": null,
      "outputs": []
    }
  ]
}